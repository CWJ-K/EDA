{
 "metadata": {
  "language_info": {
   "codemirror_mode": {
    "name": "ipython",
    "version": 3
   },
   "file_extension": ".py",
   "mimetype": "text/x-python",
   "name": "python",
   "nbconvert_exporter": "python",
   "pygments_lexer": "ipython3",
   "version": "3.7.9-final"
  },
  "orig_nbformat": 2,
  "kernelspec": {
   "name": "python3",
   "display_name": "Python 3.7.9 64-bit ('base': conda)",
   "metadata": {
    "interpreter": {
     "hash": "98b0a9b7b4eaaa670588a142fd0a9b87eaafe866f1db4228be72b4211d12040f"
    }
   }
  }
 },
 "nbformat": 4,
 "nbformat_minor": 2,
 "cells": [
  {
   "cell_type": "code",
   "execution_count": 2,
   "metadata": {},
   "outputs": [],
   "source": [
    "import os\n",
    "import numpy as np\n",
    "import pandas as pd\n",
    "import plotly.express as px\n",
    "import plotly.graph_objects as go\n",
    "\n"
   ]
  },
  {
   "cell_type": "code",
   "execution_count": 3,
   "metadata": {},
   "outputs": [],
   "source": [
    "data = pd.read_csv('./input/amazon_book/bestsellers_with_categories.csv')"
   ]
  },
  {
   "cell_type": "code",
   "execution_count": 4,
   "metadata": {},
   "outputs": [
    {
     "output_type": "execute_result",
     "data": {
      "text/plain": [
       "Index(['Name', 'Author', 'User Rating', 'Reviews', 'Price', 'Year', 'Genre'], dtype='object')"
      ]
     },
     "metadata": {},
     "execution_count": 4
    }
   ],
   "source": [
    "data.columns"
   ]
  },
  {
   "cell_type": "code",
   "execution_count": 14,
   "metadata": {},
   "outputs": [
    {
     "output_type": "execute_result",
     "data": {
      "text/plain": [
       "          Author                                               Name\n",
       "42   Jeff Kinney         Cabin Fever (Diary of a Wimpy Kid, Book 6)\n",
       "71   Jeff Kinney            Diary of a Wimpy Kid: Hard Luck, Book 8\n",
       "72   Jeff Kinney      Diary of a Wimpy Kid: The Last Straw (Book 3)\n",
       "73   Jeff Kinney                Diary of a Wimpy Kid: The Long Haul\n",
       "80   Jeff Kinney  Dog Days (Diary of a Wimpy Kid, Book 4) (Volum...\n",
       "88   Jeff Kinney             Double Down (Diary of a Wimpy Kid #11)\n",
       "253  Jeff Kinney              Old School (Diary of a Wimpy Kid #10)\n",
       "381  Jeff Kinney                                        The Getaway\n",
       "435  Jeff Kinney        The Meltdown (Diary of a Wimpy Kid Book 13)\n",
       "468  Jeff Kinney     The Third Wheel (Diary of a Wimpy Kid, Book 7)\n",
       "474  Jeff Kinney      The Ugly Truth (Diary of a Wimpy Kid, Book 5)\n",
       "545  Jeff Kinney       Wrecking Ball (Diary of a Wimpy Kid Book 14)"
      ],
      "text/html": "<div>\n<style scoped>\n    .dataframe tbody tr th:only-of-type {\n        vertical-align: middle;\n    }\n\n    .dataframe tbody tr th {\n        vertical-align: top;\n    }\n\n    .dataframe thead th {\n        text-align: right;\n    }\n</style>\n<table border=\"1\" class=\"dataframe\">\n  <thead>\n    <tr style=\"text-align: right;\">\n      <th></th>\n      <th>Author</th>\n      <th>Name</th>\n    </tr>\n  </thead>\n  <tbody>\n    <tr>\n      <th>42</th>\n      <td>Jeff Kinney</td>\n      <td>Cabin Fever (Diary of a Wimpy Kid, Book 6)</td>\n    </tr>\n    <tr>\n      <th>71</th>\n      <td>Jeff Kinney</td>\n      <td>Diary of a Wimpy Kid: Hard Luck, Book 8</td>\n    </tr>\n    <tr>\n      <th>72</th>\n      <td>Jeff Kinney</td>\n      <td>Diary of a Wimpy Kid: The Last Straw (Book 3)</td>\n    </tr>\n    <tr>\n      <th>73</th>\n      <td>Jeff Kinney</td>\n      <td>Diary of a Wimpy Kid: The Long Haul</td>\n    </tr>\n    <tr>\n      <th>80</th>\n      <td>Jeff Kinney</td>\n      <td>Dog Days (Diary of a Wimpy Kid, Book 4) (Volum...</td>\n    </tr>\n    <tr>\n      <th>88</th>\n      <td>Jeff Kinney</td>\n      <td>Double Down (Diary of a Wimpy Kid #11)</td>\n    </tr>\n    <tr>\n      <th>253</th>\n      <td>Jeff Kinney</td>\n      <td>Old School (Diary of a Wimpy Kid #10)</td>\n    </tr>\n    <tr>\n      <th>381</th>\n      <td>Jeff Kinney</td>\n      <td>The Getaway</td>\n    </tr>\n    <tr>\n      <th>435</th>\n      <td>Jeff Kinney</td>\n      <td>The Meltdown (Diary of a Wimpy Kid Book 13)</td>\n    </tr>\n    <tr>\n      <th>468</th>\n      <td>Jeff Kinney</td>\n      <td>The Third Wheel (Diary of a Wimpy Kid, Book 7)</td>\n    </tr>\n    <tr>\n      <th>474</th>\n      <td>Jeff Kinney</td>\n      <td>The Ugly Truth (Diary of a Wimpy Kid, Book 5)</td>\n    </tr>\n    <tr>\n      <th>545</th>\n      <td>Jeff Kinney</td>\n      <td>Wrecking Ball (Diary of a Wimpy Kid Book 14)</td>\n    </tr>\n  </tbody>\n</table>\n</div>"
     },
     "metadata": {},
     "execution_count": 14
    }
   ],
   "source": [
    "data.loc[data['Author'] == 'Jeff Kinney'][['Author', 'Name']]"
   ]
  },
  {
   "cell_type": "code",
   "execution_count": null,
   "metadata": {},
   "outputs": [],
   "source": []
  }
 ]
}