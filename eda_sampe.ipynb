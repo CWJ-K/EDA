{
 "metadata": {
  "language_info": {
   "codemirror_mode": {
    "name": "ipython",
    "version": 3
   },
   "file_extension": ".py",
   "mimetype": "text/x-python",
   "name": "python",
   "nbconvert_exporter": "python",
   "pygments_lexer": "ipython3",
   "version": "3.7.9-final"
  },
  "orig_nbformat": 2,
  "kernelspec": {
   "name": "python3",
   "display_name": "Python 3.7.9 64-bit ('base': conda)",
   "metadata": {
    "interpreter": {
     "hash": "98b0a9b7b4eaaa670588a142fd0a9b87eaafe866f1db4228be72b4211d12040f"
    }
   }
  }
 },
 "nbformat": 4,
 "nbformat_minor": 2,
 "cells": [
  {
   "cell_type": "code",
   "execution_count": 2,
   "metadata": {},
   "outputs": [
    {
     "output_type": "display_data",
     "data": {
      "text/html": "        <script type=\"text/javascript\">\n        window.PlotlyConfig = {MathJaxConfig: 'local'};\n        if (window.MathJax) {MathJax.Hub.Config({SVG: {font: \"STIX-Web\"}});}\n        if (typeof require !== 'undefined') {\n        require.undef(\"plotly\");\n        requirejs.config({\n            paths: {\n                'plotly': ['https://cdn.plot.ly/plotly-latest.min']\n            }\n        });\n        require(['plotly'], function(Plotly) {\n            window._Plotly = Plotly;\n        });\n        }\n        </script>\n        "
     },
     "metadata": {}
    }
   ],
   "source": [
    "import numpy as np # linear algebra\n",
    "import pandas as pd # data processing, CSV file I/O (e.g. pd.read_csv)\n",
    "import seaborn as sns\n",
    "import matplotlib.pyplot as plt\n",
    "import random\n",
    "import warnings\n",
    "import scipy\n",
    "from scipy.stats import boxcox, boxcox_normmax\n",
    "import plotly.offline as py\n",
    "py.init_notebook_mode(connected=True)\n",
    "import plotly.graph_objs as go\n",
    "import plotly.tools as tls\n",
    "warnings.filterwarnings('ignore')\n",
    "import plotly.figure_factory as ff\n",
    "\n",
    "df_train = pd.read_csv('./input/house_price/train.csv')\n",
    "\n",
    "df_train.drop(['MiscVal'], axis = 1, inplace = True)\n",
    "#1. Convert NA into 'No' Categorical values\n",
    "meaningfulNA = ['Alley', 'BsmtQual', 'BsmtCond', 'BsmtExposure', 'BsmtFinType1', 'BsmtFinType2', 'FireplaceQu', \n",
    " 'GarageType', 'GarageFinish', 'GarageQual', 'GarageCond', 'PoolQC', 'Fence', 'MiscFeature']\n",
    "df_train[meaningfulNA] = df_train[meaningfulNA].fillna('No')\n",
    "\n",
    "intVar = df_train.select_dtypes(include = ['int']).columns.tolist()\n",
    "floatVar = df_train.select_dtypes(include = ['float']).columns.tolist()\n",
    "objectVar = df_train.select_dtypes(include = ['object']).columns.tolist()"
   ]
  },
  {
   "cell_type": "code",
   "execution_count": 4,
   "metadata": {},
   "outputs": [
    {
     "output_type": "stream",
     "name": "stdout",
     "text": [
      "Step1. Find Null Varialbes\nIndex(['LotFrontage', 'GarageYrBlt'], dtype='object')\n"
     ]
    },
    {
     "output_type": "display_data",
     "data": {
      "application/vnd.plotly.v1+json": {
       "config": {
        "linkText": "Export to plot.ly",
        "plotlyServerURL": "https://plot.ly",
        "showLink": false
       },
       "data": [
        {
         "marker": {
          "color": "rgba(246, 78, 139, 0.6)",
          "line": {
           "color": "rgba(246, 78, 139, 1.0)",
           "width": 3
          }
         },
         "name": "Exist",
         "orientation": "h",
         "type": "bar",
         "x": [
          1194,
          1370
         ],
         "y": [
          "LotFrontage",
          "GarageYrBlt"
         ]
        },
        {
         "marker": {
          "color": "rgba(58, 71, 80, 0.6)",
          "line": {
           "color": "rgba(58, 71, 80, 1.0)",
           "width": 3
          }
         },
         "name": "Null",
         "orientation": "h",
         "type": "bar",
         "x": [
          257,
          81
         ],
         "y": [
          "LotFrontage",
          "GarageYrBlt"
         ]
        }
       ],
       "layout": {
        "barmode": "stack",
        "height": 400,
        "template": {
         "data": {
          "bar": [
           {
            "error_x": {
             "color": "#2a3f5f"
            },
            "error_y": {
             "color": "#2a3f5f"
            },
            "marker": {
             "line": {
              "color": "#E5ECF6",
              "width": 0.5
             }
            },
            "type": "bar"
           }
          ],
          "barpolar": [
           {
            "marker": {
             "line": {
              "color": "#E5ECF6",
              "width": 0.5
             }
            },
            "type": "barpolar"
           }
          ],
          "carpet": [
           {
            "aaxis": {
             "endlinecolor": "#2a3f5f",
             "gridcolor": "white",
             "linecolor": "white",
             "minorgridcolor": "white",
             "startlinecolor": "#2a3f5f"
            },
            "baxis": {
             "endlinecolor": "#2a3f5f",
             "gridcolor": "white",
             "linecolor": "white",
             "minorgridcolor": "white",
             "startlinecolor": "#2a3f5f"
            },
            "type": "carpet"
           }
          ],
          "choropleth": [
           {
            "colorbar": {
             "outlinewidth": 0,
             "ticks": ""
            },
            "type": "choropleth"
           }
          ],
          "contour": [
           {
            "colorbar": {
             "outlinewidth": 0,
             "ticks": ""
            },
            "colorscale": [
             [
              0,
              "#0d0887"
             ],
             [
              0.1111111111111111,
              "#46039f"
             ],
             [
              0.2222222222222222,
              "#7201a8"
             ],
             [
              0.3333333333333333,
              "#9c179e"
             ],
             [
              0.4444444444444444,
              "#bd3786"
             ],
             [
              0.5555555555555556,
              "#d8576b"
             ],
             [
              0.6666666666666666,
              "#ed7953"
             ],
             [
              0.7777777777777778,
              "#fb9f3a"
             ],
             [
              0.8888888888888888,
              "#fdca26"
             ],
             [
              1,
              "#f0f921"
             ]
            ],
            "type": "contour"
           }
          ],
          "contourcarpet": [
           {
            "colorbar": {
             "outlinewidth": 0,
             "ticks": ""
            },
            "type": "contourcarpet"
           }
          ],
          "heatmap": [
           {
            "colorbar": {
             "outlinewidth": 0,
             "ticks": ""
            },
            "colorscale": [
             [
              0,
              "#0d0887"
             ],
             [
              0.1111111111111111,
              "#46039f"
             ],
             [
              0.2222222222222222,
              "#7201a8"
             ],
             [
              0.3333333333333333,
              "#9c179e"
             ],
             [
              0.4444444444444444,
              "#bd3786"
             ],
             [
              0.5555555555555556,
              "#d8576b"
             ],
             [
              0.6666666666666666,
              "#ed7953"
             ],
             [
              0.7777777777777778,
              "#fb9f3a"
             ],
             [
              0.8888888888888888,
              "#fdca26"
             ],
             [
              1,
              "#f0f921"
             ]
            ],
            "type": "heatmap"
           }
          ],
          "heatmapgl": [
           {
            "colorbar": {
             "outlinewidth": 0,
             "ticks": ""
            },
            "colorscale": [
             [
              0,
              "#0d0887"
             ],
             [
              0.1111111111111111,
              "#46039f"
             ],
             [
              0.2222222222222222,
              "#7201a8"
             ],
             [
              0.3333333333333333,
              "#9c179e"
             ],
             [
              0.4444444444444444,
              "#bd3786"
             ],
             [
              0.5555555555555556,
              "#d8576b"
             ],
             [
              0.6666666666666666,
              "#ed7953"
             ],
             [
              0.7777777777777778,
              "#fb9f3a"
             ],
             [
              0.8888888888888888,
              "#fdca26"
             ],
             [
              1,
              "#f0f921"
             ]
            ],
            "type": "heatmapgl"
           }
          ],
          "histogram": [
           {
            "marker": {
             "colorbar": {
              "outlinewidth": 0,
              "ticks": ""
             }
            },
            "type": "histogram"
           }
          ],
          "histogram2d": [
           {
            "colorbar": {
             "outlinewidth": 0,
             "ticks": ""
            },
            "colorscale": [
             [
              0,
              "#0d0887"
             ],
             [
              0.1111111111111111,
              "#46039f"
             ],
             [
              0.2222222222222222,
              "#7201a8"
             ],
             [
              0.3333333333333333,
              "#9c179e"
             ],
             [
              0.4444444444444444,
              "#bd3786"
             ],
             [
              0.5555555555555556,
              "#d8576b"
             ],
             [
              0.6666666666666666,
              "#ed7953"
             ],
             [
              0.7777777777777778,
              "#fb9f3a"
             ],
             [
              0.8888888888888888,
              "#fdca26"
             ],
             [
              1,
              "#f0f921"
             ]
            ],
            "type": "histogram2d"
           }
          ],
          "histogram2dcontour": [
           {
            "colorbar": {
             "outlinewidth": 0,
             "ticks": ""
            },
            "colorscale": [
             [
              0,
              "#0d0887"
             ],
             [
              0.1111111111111111,
              "#46039f"
             ],
             [
              0.2222222222222222,
              "#7201a8"
             ],
             [
              0.3333333333333333,
              "#9c179e"
             ],
             [
              0.4444444444444444,
              "#bd3786"
             ],
             [
              0.5555555555555556,
              "#d8576b"
             ],
             [
              0.6666666666666666,
              "#ed7953"
             ],
             [
              0.7777777777777778,
              "#fb9f3a"
             ],
             [
              0.8888888888888888,
              "#fdca26"
             ],
             [
              1,
              "#f0f921"
             ]
            ],
            "type": "histogram2dcontour"
           }
          ],
          "mesh3d": [
           {
            "colorbar": {
             "outlinewidth": 0,
             "ticks": ""
            },
            "type": "mesh3d"
           }
          ],
          "parcoords": [
           {
            "line": {
             "colorbar": {
              "outlinewidth": 0,
              "ticks": ""
             }
            },
            "type": "parcoords"
           }
          ],
          "pie": [
           {
            "automargin": true,
            "type": "pie"
           }
          ],
          "scatter": [
           {
            "marker": {
             "colorbar": {
              "outlinewidth": 0,
              "ticks": ""
             }
            },
            "type": "scatter"
           }
          ],
          "scatter3d": [
           {
            "line": {
             "colorbar": {
              "outlinewidth": 0,
              "ticks": ""
             }
            },
            "marker": {
             "colorbar": {
              "outlinewidth": 0,
              "ticks": ""
             }
            },
            "type": "scatter3d"
           }
          ],
          "scattercarpet": [
           {
            "marker": {
             "colorbar": {
              "outlinewidth": 0,
              "ticks": ""
             }
            },
            "type": "scattercarpet"
           }
          ],
          "scattergeo": [
           {
            "marker": {
             "colorbar": {
              "outlinewidth": 0,
              "ticks": ""
             }
            },
            "type": "scattergeo"
           }
          ],
          "scattergl": [
           {
            "marker": {
             "colorbar": {
              "outlinewidth": 0,
              "ticks": ""
             }
            },
            "type": "scattergl"
           }
          ],
          "scattermapbox": [
           {
            "marker": {
             "colorbar": {
              "outlinewidth": 0,
              "ticks": ""
             }
            },
            "type": "scattermapbox"
           }
          ],
          "scatterpolar": [
           {
            "marker": {
             "colorbar": {
              "outlinewidth": 0,
              "ticks": ""
             }
            },
            "type": "scatterpolar"
           }
          ],
          "scatterpolargl": [
           {
            "marker": {
             "colorbar": {
              "outlinewidth": 0,
              "ticks": ""
             }
            },
            "type": "scatterpolargl"
           }
          ],
          "scatterternary": [
           {
            "marker": {
             "colorbar": {
              "outlinewidth": 0,
              "ticks": ""
             }
            },
            "type": "scatterternary"
           }
          ],
          "surface": [
           {
            "colorbar": {
             "outlinewidth": 0,
             "ticks": ""
            },
            "colorscale": [
             [
              0,
              "#0d0887"
             ],
             [
              0.1111111111111111,
              "#46039f"
             ],
             [
              0.2222222222222222,
              "#7201a8"
             ],
             [
              0.3333333333333333,
              "#9c179e"
             ],
             [
              0.4444444444444444,
              "#bd3786"
             ],
             [
              0.5555555555555556,
              "#d8576b"
             ],
             [
              0.6666666666666666,
              "#ed7953"
             ],
             [
              0.7777777777777778,
              "#fb9f3a"
             ],
             [
              0.8888888888888888,
              "#fdca26"
             ],
             [
              1,
              "#f0f921"
             ]
            ],
            "type": "surface"
           }
          ],
          "table": [
           {
            "cells": {
             "fill": {
              "color": "#EBF0F8"
             },
             "line": {
              "color": "white"
             }
            },
            "header": {
             "fill": {
              "color": "#C8D4E3"
             },
             "line": {
              "color": "white"
             }
            },
            "type": "table"
           }
          ]
         },
         "layout": {
          "annotationdefaults": {
           "arrowcolor": "#2a3f5f",
           "arrowhead": 0,
           "arrowwidth": 1
          },
          "autotypenumbers": "strict",
          "coloraxis": {
           "colorbar": {
            "outlinewidth": 0,
            "ticks": ""
           }
          },
          "colorscale": {
           "diverging": [
            [
             0,
             "#8e0152"
            ],
            [
             0.1,
             "#c51b7d"
            ],
            [
             0.2,
             "#de77ae"
            ],
            [
             0.3,
             "#f1b6da"
            ],
            [
             0.4,
             "#fde0ef"
            ],
            [
             0.5,
             "#f7f7f7"
            ],
            [
             0.6,
             "#e6f5d0"
            ],
            [
             0.7,
             "#b8e186"
            ],
            [
             0.8,
             "#7fbc41"
            ],
            [
             0.9,
             "#4d9221"
            ],
            [
             1,
             "#276419"
            ]
           ],
           "sequential": [
            [
             0,
             "#0d0887"
            ],
            [
             0.1111111111111111,
             "#46039f"
            ],
            [
             0.2222222222222222,
             "#7201a8"
            ],
            [
             0.3333333333333333,
             "#9c179e"
            ],
            [
             0.4444444444444444,
             "#bd3786"
            ],
            [
             0.5555555555555556,
             "#d8576b"
            ],
            [
             0.6666666666666666,
             "#ed7953"
            ],
            [
             0.7777777777777778,
             "#fb9f3a"
            ],
            [
             0.8888888888888888,
             "#fdca26"
            ],
            [
             1,
             "#f0f921"
            ]
           ],
           "sequentialminus": [
            [
             0,
             "#0d0887"
            ],
            [
             0.1111111111111111,
             "#46039f"
            ],
            [
             0.2222222222222222,
             "#7201a8"
            ],
            [
             0.3333333333333333,
             "#9c179e"
            ],
            [
             0.4444444444444444,
             "#bd3786"
            ],
            [
             0.5555555555555556,
             "#d8576b"
            ],
            [
             0.6666666666666666,
             "#ed7953"
            ],
            [
             0.7777777777777778,
             "#fb9f3a"
            ],
            [
             0.8888888888888888,
             "#fdca26"
            ],
            [
             1,
             "#f0f921"
            ]
           ]
          },
          "colorway": [
           "#636efa",
           "#EF553B",
           "#00cc96",
           "#ab63fa",
           "#FFA15A",
           "#19d3f3",
           "#FF6692",
           "#B6E880",
           "#FF97FF",
           "#FECB52"
          ],
          "font": {
           "color": "#2a3f5f"
          },
          "geo": {
           "bgcolor": "white",
           "lakecolor": "white",
           "landcolor": "#E5ECF6",
           "showlakes": true,
           "showland": true,
           "subunitcolor": "white"
          },
          "hoverlabel": {
           "align": "left"
          },
          "hovermode": "closest",
          "mapbox": {
           "style": "light"
          },
          "paper_bgcolor": "white",
          "plot_bgcolor": "#E5ECF6",
          "polar": {
           "angularaxis": {
            "gridcolor": "white",
            "linecolor": "white",
            "ticks": ""
           },
           "bgcolor": "#E5ECF6",
           "radialaxis": {
            "gridcolor": "white",
            "linecolor": "white",
            "ticks": ""
           }
          },
          "scene": {
           "xaxis": {
            "backgroundcolor": "#E5ECF6",
            "gridcolor": "white",
            "gridwidth": 2,
            "linecolor": "white",
            "showbackground": true,
            "ticks": "",
            "zerolinecolor": "white"
           },
           "yaxis": {
            "backgroundcolor": "#E5ECF6",
            "gridcolor": "white",
            "gridwidth": 2,
            "linecolor": "white",
            "showbackground": true,
            "ticks": "",
            "zerolinecolor": "white"
           },
           "zaxis": {
            "backgroundcolor": "#E5ECF6",
            "gridcolor": "white",
            "gridwidth": 2,
            "linecolor": "white",
            "showbackground": true,
            "ticks": "",
            "zerolinecolor": "white"
           }
          },
          "shapedefaults": {
           "line": {
            "color": "#2a3f5f"
           }
          },
          "ternary": {
           "aaxis": {
            "gridcolor": "white",
            "linecolor": "white",
            "ticks": ""
           },
           "baxis": {
            "gridcolor": "white",
            "linecolor": "white",
            "ticks": ""
           },
           "bgcolor": "#E5ECF6",
           "caxis": {
            "gridcolor": "white",
            "linecolor": "white",
            "ticks": ""
           }
          },
          "title": {
           "x": 0.05
          },
          "xaxis": {
           "automargin": true,
           "gridcolor": "white",
           "linecolor": "white",
           "ticks": "",
           "title": {
            "standoff": 15
           },
           "zerolinecolor": "white",
           "zerolinewidth": 2
          },
          "yaxis": {
           "automargin": true,
           "gridcolor": "white",
           "linecolor": "white",
           "ticks": "",
           "title": {
            "standoff": 15
           },
           "zerolinecolor": "white",
           "zerolinewidth": 2
          }
         }
        },
        "title": {
         "text": "Null Value BarPlot"
        },
        "width": 800
       }
      },
      "text/html": "<div>                            <div id=\"3a0f8399-f010-454b-802a-3ab5e52391cd\" class=\"plotly-graph-div\" style=\"height:400px; width:800px;\"></div>            <script type=\"text/javascript\">                require([\"plotly\"], function(Plotly) {                    window.PLOTLYENV=window.PLOTLYENV || {};                                    if (document.getElementById(\"3a0f8399-f010-454b-802a-3ab5e52391cd\")) {                    Plotly.newPlot(                        \"3a0f8399-f010-454b-802a-3ab5e52391cd\",                        [{\"marker\": {\"color\": \"rgba(246, 78, 139, 0.6)\", \"line\": {\"color\": \"rgba(246, 78, 139, 1.0)\", \"width\": 3}}, \"name\": \"Exist\", \"orientation\": \"h\", \"type\": \"bar\", \"x\": [1194, 1370], \"y\": [\"LotFrontage\", \"GarageYrBlt\"]}, {\"marker\": {\"color\": \"rgba(58, 71, 80, 0.6)\", \"line\": {\"color\": \"rgba(58, 71, 80, 1.0)\", \"width\": 3}}, \"name\": \"Null\", \"orientation\": \"h\", \"type\": \"bar\", \"x\": [257, 81], \"y\": [\"LotFrontage\", \"GarageYrBlt\"]}],                        {\"barmode\": \"stack\", \"height\": 400, \"template\": {\"data\": {\"bar\": [{\"error_x\": {\"color\": \"#2a3f5f\"}, \"error_y\": {\"color\": \"#2a3f5f\"}, \"marker\": {\"line\": {\"color\": \"#E5ECF6\", \"width\": 0.5}}, \"type\": \"bar\"}], \"barpolar\": [{\"marker\": {\"line\": {\"color\": \"#E5ECF6\", \"width\": 0.5}}, \"type\": \"barpolar\"}], \"carpet\": [{\"aaxis\": {\"endlinecolor\": \"#2a3f5f\", \"gridcolor\": \"white\", \"linecolor\": \"white\", \"minorgridcolor\": \"white\", \"startlinecolor\": \"#2a3f5f\"}, \"baxis\": {\"endlinecolor\": \"#2a3f5f\", \"gridcolor\": \"white\", \"linecolor\": \"white\", \"minorgridcolor\": \"white\", \"startlinecolor\": \"#2a3f5f\"}, \"type\": \"carpet\"}], \"choropleth\": [{\"colorbar\": {\"outlinewidth\": 0, \"ticks\": \"\"}, \"type\": \"choropleth\"}], \"contour\": [{\"colorbar\": {\"outlinewidth\": 0, \"ticks\": \"\"}, \"colorscale\": [[0.0, \"#0d0887\"], [0.1111111111111111, \"#46039f\"], [0.2222222222222222, \"#7201a8\"], [0.3333333333333333, \"#9c179e\"], [0.4444444444444444, \"#bd3786\"], [0.5555555555555556, \"#d8576b\"], [0.6666666666666666, \"#ed7953\"], [0.7777777777777778, \"#fb9f3a\"], [0.8888888888888888, \"#fdca26\"], [1.0, \"#f0f921\"]], \"type\": \"contour\"}], \"contourcarpet\": [{\"colorbar\": {\"outlinewidth\": 0, \"ticks\": \"\"}, \"type\": \"contourcarpet\"}], \"heatmap\": [{\"colorbar\": {\"outlinewidth\": 0, \"ticks\": \"\"}, \"colorscale\": [[0.0, \"#0d0887\"], [0.1111111111111111, \"#46039f\"], [0.2222222222222222, \"#7201a8\"], [0.3333333333333333, \"#9c179e\"], [0.4444444444444444, \"#bd3786\"], [0.5555555555555556, \"#d8576b\"], [0.6666666666666666, \"#ed7953\"], [0.7777777777777778, \"#fb9f3a\"], [0.8888888888888888, \"#fdca26\"], [1.0, \"#f0f921\"]], \"type\": \"heatmap\"}], \"heatmapgl\": [{\"colorbar\": {\"outlinewidth\": 0, \"ticks\": \"\"}, \"colorscale\": [[0.0, \"#0d0887\"], [0.1111111111111111, \"#46039f\"], [0.2222222222222222, \"#7201a8\"], [0.3333333333333333, \"#9c179e\"], [0.4444444444444444, \"#bd3786\"], [0.5555555555555556, \"#d8576b\"], [0.6666666666666666, \"#ed7953\"], [0.7777777777777778, \"#fb9f3a\"], [0.8888888888888888, \"#fdca26\"], [1.0, \"#f0f921\"]], \"type\": \"heatmapgl\"}], \"histogram\": [{\"marker\": {\"colorbar\": {\"outlinewidth\": 0, \"ticks\": \"\"}}, \"type\": \"histogram\"}], \"histogram2d\": [{\"colorbar\": {\"outlinewidth\": 0, \"ticks\": \"\"}, \"colorscale\": [[0.0, \"#0d0887\"], [0.1111111111111111, \"#46039f\"], [0.2222222222222222, \"#7201a8\"], [0.3333333333333333, \"#9c179e\"], [0.4444444444444444, \"#bd3786\"], [0.5555555555555556, \"#d8576b\"], [0.6666666666666666, \"#ed7953\"], [0.7777777777777778, \"#fb9f3a\"], [0.8888888888888888, \"#fdca26\"], [1.0, \"#f0f921\"]], \"type\": \"histogram2d\"}], \"histogram2dcontour\": [{\"colorbar\": {\"outlinewidth\": 0, \"ticks\": \"\"}, \"colorscale\": [[0.0, \"#0d0887\"], [0.1111111111111111, \"#46039f\"], [0.2222222222222222, \"#7201a8\"], [0.3333333333333333, \"#9c179e\"], [0.4444444444444444, \"#bd3786\"], [0.5555555555555556, \"#d8576b\"], [0.6666666666666666, \"#ed7953\"], [0.7777777777777778, \"#fb9f3a\"], [0.8888888888888888, \"#fdca26\"], [1.0, \"#f0f921\"]], \"type\": \"histogram2dcontour\"}], \"mesh3d\": [{\"colorbar\": {\"outlinewidth\": 0, \"ticks\": \"\"}, \"type\": \"mesh3d\"}], \"parcoords\": [{\"line\": {\"colorbar\": {\"outlinewidth\": 0, \"ticks\": \"\"}}, \"type\": \"parcoords\"}], \"pie\": [{\"automargin\": true, \"type\": \"pie\"}], \"scatter\": [{\"marker\": {\"colorbar\": {\"outlinewidth\": 0, \"ticks\": \"\"}}, \"type\": \"scatter\"}], \"scatter3d\": [{\"line\": {\"colorbar\": {\"outlinewidth\": 0, \"ticks\": \"\"}}, \"marker\": {\"colorbar\": {\"outlinewidth\": 0, \"ticks\": \"\"}}, \"type\": \"scatter3d\"}], \"scattercarpet\": [{\"marker\": {\"colorbar\": {\"outlinewidth\": 0, \"ticks\": \"\"}}, \"type\": \"scattercarpet\"}], \"scattergeo\": [{\"marker\": {\"colorbar\": {\"outlinewidth\": 0, \"ticks\": \"\"}}, \"type\": \"scattergeo\"}], \"scattergl\": [{\"marker\": {\"colorbar\": {\"outlinewidth\": 0, \"ticks\": \"\"}}, \"type\": \"scattergl\"}], \"scattermapbox\": [{\"marker\": {\"colorbar\": {\"outlinewidth\": 0, \"ticks\": \"\"}}, \"type\": \"scattermapbox\"}], \"scatterpolar\": [{\"marker\": {\"colorbar\": {\"outlinewidth\": 0, \"ticks\": \"\"}}, \"type\": \"scatterpolar\"}], \"scatterpolargl\": [{\"marker\": {\"colorbar\": {\"outlinewidth\": 0, \"ticks\": \"\"}}, \"type\": \"scatterpolargl\"}], \"scatterternary\": [{\"marker\": {\"colorbar\": {\"outlinewidth\": 0, \"ticks\": \"\"}}, \"type\": \"scatterternary\"}], \"surface\": [{\"colorbar\": {\"outlinewidth\": 0, \"ticks\": \"\"}, \"colorscale\": [[0.0, \"#0d0887\"], [0.1111111111111111, \"#46039f\"], [0.2222222222222222, \"#7201a8\"], [0.3333333333333333, \"#9c179e\"], [0.4444444444444444, \"#bd3786\"], [0.5555555555555556, \"#d8576b\"], [0.6666666666666666, \"#ed7953\"], [0.7777777777777778, \"#fb9f3a\"], [0.8888888888888888, \"#fdca26\"], [1.0, \"#f0f921\"]], \"type\": \"surface\"}], \"table\": [{\"cells\": {\"fill\": {\"color\": \"#EBF0F8\"}, \"line\": {\"color\": \"white\"}}, \"header\": {\"fill\": {\"color\": \"#C8D4E3\"}, \"line\": {\"color\": \"white\"}}, \"type\": \"table\"}]}, \"layout\": {\"annotationdefaults\": {\"arrowcolor\": \"#2a3f5f\", \"arrowhead\": 0, \"arrowwidth\": 1}, \"autotypenumbers\": \"strict\", \"coloraxis\": {\"colorbar\": {\"outlinewidth\": 0, \"ticks\": \"\"}}, \"colorscale\": {\"diverging\": [[0, \"#8e0152\"], [0.1, \"#c51b7d\"], [0.2, \"#de77ae\"], [0.3, \"#f1b6da\"], [0.4, \"#fde0ef\"], [0.5, \"#f7f7f7\"], [0.6, \"#e6f5d0\"], [0.7, \"#b8e186\"], [0.8, \"#7fbc41\"], [0.9, \"#4d9221\"], [1, \"#276419\"]], \"sequential\": [[0.0, \"#0d0887\"], [0.1111111111111111, \"#46039f\"], [0.2222222222222222, \"#7201a8\"], [0.3333333333333333, \"#9c179e\"], [0.4444444444444444, \"#bd3786\"], [0.5555555555555556, \"#d8576b\"], [0.6666666666666666, \"#ed7953\"], [0.7777777777777778, \"#fb9f3a\"], [0.8888888888888888, \"#fdca26\"], [1.0, \"#f0f921\"]], \"sequentialminus\": [[0.0, \"#0d0887\"], [0.1111111111111111, \"#46039f\"], [0.2222222222222222, \"#7201a8\"], [0.3333333333333333, \"#9c179e\"], [0.4444444444444444, \"#bd3786\"], [0.5555555555555556, \"#d8576b\"], [0.6666666666666666, \"#ed7953\"], [0.7777777777777778, \"#fb9f3a\"], [0.8888888888888888, \"#fdca26\"], [1.0, \"#f0f921\"]]}, \"colorway\": [\"#636efa\", \"#EF553B\", \"#00cc96\", \"#ab63fa\", \"#FFA15A\", \"#19d3f3\", \"#FF6692\", \"#B6E880\", \"#FF97FF\", \"#FECB52\"], \"font\": {\"color\": \"#2a3f5f\"}, \"geo\": {\"bgcolor\": \"white\", \"lakecolor\": \"white\", \"landcolor\": \"#E5ECF6\", \"showlakes\": true, \"showland\": true, \"subunitcolor\": \"white\"}, \"hoverlabel\": {\"align\": \"left\"}, \"hovermode\": \"closest\", \"mapbox\": {\"style\": \"light\"}, \"paper_bgcolor\": \"white\", \"plot_bgcolor\": \"#E5ECF6\", \"polar\": {\"angularaxis\": {\"gridcolor\": \"white\", \"linecolor\": \"white\", \"ticks\": \"\"}, \"bgcolor\": \"#E5ECF6\", \"radialaxis\": {\"gridcolor\": \"white\", \"linecolor\": \"white\", \"ticks\": \"\"}}, \"scene\": {\"xaxis\": {\"backgroundcolor\": \"#E5ECF6\", \"gridcolor\": \"white\", \"gridwidth\": 2, \"linecolor\": \"white\", \"showbackground\": true, \"ticks\": \"\", \"zerolinecolor\": \"white\"}, \"yaxis\": {\"backgroundcolor\": \"#E5ECF6\", \"gridcolor\": \"white\", \"gridwidth\": 2, \"linecolor\": \"white\", \"showbackground\": true, \"ticks\": \"\", \"zerolinecolor\": \"white\"}, \"zaxis\": {\"backgroundcolor\": \"#E5ECF6\", \"gridcolor\": \"white\", \"gridwidth\": 2, \"linecolor\": \"white\", \"showbackground\": true, \"ticks\": \"\", \"zerolinecolor\": \"white\"}}, \"shapedefaults\": {\"line\": {\"color\": \"#2a3f5f\"}}, \"ternary\": {\"aaxis\": {\"gridcolor\": \"white\", \"linecolor\": \"white\", \"ticks\": \"\"}, \"baxis\": {\"gridcolor\": \"white\", \"linecolor\": \"white\", \"ticks\": \"\"}, \"bgcolor\": \"#E5ECF6\", \"caxis\": {\"gridcolor\": \"white\", \"linecolor\": \"white\", \"ticks\": \"\"}}, \"title\": {\"x\": 0.05}, \"xaxis\": {\"automargin\": true, \"gridcolor\": \"white\", \"linecolor\": \"white\", \"ticks\": \"\", \"title\": {\"standoff\": 15}, \"zerolinecolor\": \"white\", \"zerolinewidth\": 2}, \"yaxis\": {\"automargin\": true, \"gridcolor\": \"white\", \"linecolor\": \"white\", \"ticks\": \"\", \"title\": {\"standoff\": 15}, \"zerolinecolor\": \"white\", \"zerolinewidth\": 2}}}, \"title\": {\"text\": \"Null Value BarPlot\"}, \"width\": 800},                        {\"responsive\": true}                    ).then(function(){\n                            \nvar gd = document.getElementById('3a0f8399-f010-454b-802a-3ab5e52391cd');\nvar x = new MutationObserver(function (mutations, observer) {{\n        var display = window.getComputedStyle(gd).display;\n        if (!display || display === 'none') {{\n            console.log([gd, 'removed!']);\n            Plotly.purge(gd);\n            observer.disconnect();\n        }}\n}});\n\n// Listen for the removal of the full notebook cells\nvar notebookContainer = gd.closest('#notebook-container');\nif (notebookContainer) {{\n    x.observe(notebookContainer, {childList: true});\n}}\n\n// Listen for the clearing of the current output cell\nvar outputEl = gd.closest('.output');\nif (outputEl) {{\n    x.observe(outputEl, {childList: true});\n}}\n\n                        })                };                });            </script>        </div>"
     },
     "metadata": {}
    },
    {
     "output_type": "stream",
     "name": "stdout",
     "text": [
      "Number of Missing Index Sum (MaxVnrType, MasVnrARea, Electrical) :  0\nCorrelation Between GarageYrBlt and YearBlt:  0.82\nMax Correlation of LotFrontage :  0.46\n-- Linear Imputation : LotFrontage-- \n"
     ]
    }
   ],
   "source": [
    "print('Step1. Find Null Varialbes')\n",
    "#print('Null Variables :' ,list(df_train.isnull().sum()[df_train.isnull().sum() != 0].index))\n",
    "\n",
    "nullIndex = df_train.isnull().any().index[df_train.isnull().any()]\n",
    "nullTrain = df_train.loc[:, nullIndex].copy()\n",
    "for col in nullTrain.columns:\n",
    "    nullPos = nullTrain[col].isnull()\n",
    "    nullTrain.loc[~nullPos, col] = 'Exist'\n",
    "    nullTrain.loc[nullPos, col] = 'Null'\n",
    "\n",
    "nullTrain = nullTrain.apply(lambda x: pd.Series.value_counts(x)).T\n",
    "nullTrain = nullTrain.sort_values('Exist')\n",
    "print(nullTrain.index)\n",
    "trace1 = go.Bar(\n",
    "    x = nullTrain['Exist'],\n",
    "    y = nullTrain.index,\n",
    "    name = 'Exist',\n",
    "    orientation = 'h',\n",
    "    marker = dict(\n",
    "        color = 'rgba(246, 78, 139, 0.6)',\n",
    "        line = dict(\n",
    "            color = 'rgba(246, 78, 139, 1.0)',\n",
    "            width = 3)\n",
    "    )\n",
    ")\n",
    "trace2 = go.Bar(\n",
    "    x = nullTrain['Null'],\n",
    "    y = nullTrain.index,\n",
    "    name = 'Null',\n",
    "    orientation = 'h',\n",
    "    marker = dict(\n",
    "        color = 'rgba(58, 71, 80, 0.6)',\n",
    "        line = dict(\n",
    "            color = 'rgba(58, 71, 80, 1.0)',\n",
    "            width = 3)\n",
    "    )\n",
    ")\n",
    "\n",
    "\n",
    "data = [trace1, trace2]\n",
    "layout1 = go.Layout(\n",
    "    width = 800,\n",
    "    height = 400,\n",
    "    barmode = 'stack',\n",
    "    title = 'Null Value BarPlot'\n",
    "    )\n",
    "fig = go.Figure(data = data, layout = layout1)\n",
    "\n",
    "\n",
    "#print((df_train.isnull().sum()[df_train.isnull().sum() != 0]) / df_train.shape[0])\n",
    "#print('')\n",
    "py.iplot(fig)\n",
    "indexList = df_train.index\n",
    "print('Number of Missing Index Sum (MaxVnrType, MasVnrARea, Electrical) : ', sum(indexList[df_train[['MasVnrType', 'MasVnrArea', 'Electrical']].isnull().sum(axis=1)]))\n",
    "df_train = df_train.loc[df_train[['Electrical', 'MasVnrArea', 'MasVnrType']].isnull().sum(axis=1) == 0, :]\n",
    "\n",
    "print('Correlation Between GarageYrBlt and YearBlt: ', df_train[['GarageYrBlt', 'YearBuilt']].corr().loc['GarageYrBlt', 'YearBuilt'].round(2))\n",
    "val = round(max(df_train.corr().loc['LotFrontage', :].drop('LotFrontage')),2)\n",
    "print('Max Correlation of LotFrontage : ', val)\n",
    "print('-- Linear Imputation : LotFrontage-- ')\n",
    "from sklearn import linear_model\n",
    "dfImpute = df_train.loc[:, ['1stFlrSF', 'LotArea', 'LotFrontage']].copy()\n",
    "testIx = dfImpute.loc[:,'LotFrontage'].isnull()\n",
    "dfTrain = dfImpute.loc[~testIx, :]\n",
    "dfTest = dfImpute.loc[testIx, :]\n",
    "lr = linear_model.LinearRegression()\n",
    "lr.fit(dfTrain.loc[:, ['1stFlrSF', 'LotArea', 'LotArea']], dfTrain.loc[:, 'LotFrontage'])\n",
    "lrImpute = lr.predict(dfTest.loc[:, ['1stFlrSF', 'LotArea', 'LotArea']])"
   ]
  },
  {
   "cell_type": "code",
   "execution_count": null,
   "metadata": {},
   "outputs": [],
   "source": [
    "from collections import Counter, defaultdict\n",
    "def checkOutlier(df, m = 4):\n",
    "    uniOutlier = dict().fromkeys(df.columns, None)\n",
    "    outSample = abs(df - df.mean()) > 4 * df.std()\n",
    "    outSum = (abs(df - df.mean()) > 4 * df.std()).sum()\n",
    "    for key in uniOutlier.keys():\n",
    "        uniOutlier[key] = set(outSample.index[outSample.loc[:, key]])\n",
    "    outportion = outSum / df.shape[0]\n",
    "    #print(\"No outlier Vars: \" ,outSum.index[outportion == 0].tolist())\n",
    "    #print(\"Outlier Portion\")\n",
    "    #print(outportion[outportion != 0].index.tolist())\n",
    "    #print(outportion[outportion != 0].values.tolist())\n",
    "    outportion = outportion[outportion != 0].sort_values()\n",
    "    outlierLst = outportion.index.tolist()\n",
    "    return uniOutlier, outlierLst\n",
    "\n",
    "from collections import Counter\n",
    "def outlierCounter(outlierDict, exceptionLst = ['SalePrice']):\n",
    "    inter = Counter()\n",
    "    name = defaultdict(list)\n",
    "    coreKey = set(outlierDict.keys()).difference(exceptionLst)\n",
    "    for key in coreKey:\n",
    "        value = outlierDict[key]\n",
    "        for val in value:\n",
    "            inter[val] += 1\n",
    "            name[val].append(key)\n",
    "    res = pd.DataFrame([inter, name], index = ['count', 'variable']).T\n",
    "    res = res.sort_values('count', ascending = False)\n",
    "    return res\n",
    "\n",
    "from scipy.stats import multivariate_normal\n",
    "def bivarCI(dfNum, y = 'SalePrice', outer = 10, z_score = 0.00006, cols = 2):\n",
    "    \n",
    "    colNum = dfNum.shape[1]\n",
    "    row, col = divmod(colNum-1, cols)\n",
    "    if row == 1 and col == 0: row += 1\n",
    "    if col != 0: row += 1\n",
    "    \n",
    "    \n",
    "    z_under = z_score * 0.98\n",
    "    z_upper = z_score * 1.02\n",
    "    \n",
    "    biOutlier = dict().fromkeys(dfNum.columns, None)\n",
    "    #f, axes = plt.subplots(row, cols, figsize = (4*cols, 4*row))\n",
    "    #f.suptitle('Bivaraite CI', fontsize = 12)\n",
    "    for ix, var1 in enumerate(dfNum.columns):\n",
    "        if var1 == y: break\n",
    "        r,c = divmod(ix, cols)\n",
    "        dfPart = dfNum.loc[:, [var1,y]]\n",
    "        dfPart = dfPart[~dfPart.isnull()].copy()\n",
    "        dfPart = dfPart.loc[dfPart.loc[:, var1] != 0,:]\n",
    "        dfPart = (dfPart - dfPart.mean()) / dfPart.std()\n",
    "        F, X, Y, posProb = bivarConverter(dfPart, outer, z_under, z_upper, N = 700)\n",
    "        #axes[r,c].contourf(X, Y, posProb)\n",
    "        #axes[r,c].scatter(dfPart.loc[:, var1], dfPart.loc[:, y], alpha = 1)\n",
    "        #axes[r,c].set_title('Bivaraite CI ' + var1)\n",
    "        dfPartProb = F.pdf(dfPart.values)\n",
    "        outIndex = dfPart.index[dfPartProb < z_score]\n",
    "        biOutlier[var1] = set(outIndex.tolist())\n",
    "    #f.tight_layout(rect = [0, 0.03, 1, 0.95])\n",
    "    #plt.show()\n",
    "    \n",
    "    return biOutlier\n",
    "\n",
    "def bivarConverter(df, outer, z_under, z_upper, N = 500):\n",
    "    x_init, y_init = df.min() - outer\n",
    "    x_end, y_end = df.max() + outer\n",
    "    X = np.linspace(x_init, x_end, N)\n",
    "    Y = np.linspace(y_init, y_end, N)\n",
    "    X, Y = np.meshgrid(X, Y)\n",
    "    pos = np.empty(X.shape + (2,))\n",
    "    pos[:,:,0] = X\n",
    "    pos[:,:,1] = Y\n",
    "    F = multivariate_normal(mean=df.mean().values, cov=df.corr().values)\n",
    "    posProb = F.pdf(pos)\n",
    "    posProb[(z_under < posProb) & (posProb < z_upper)] = 1\n",
    "    posProb[(z_under > posProb) | (posProb < z_upper)] = 0\n",
    "       \n",
    "    return F , X, Y, posProb"
   ]
  },
  {
   "cell_type": "code",
   "execution_count": null,
   "metadata": {},
   "outputs": [],
   "source": [
    "cols = ['GrLivArea', 'LotArea', '1stFlrSF', 'TotalBsmtSF', 'SalePrice']\n",
    "uniOutlier, outlierList = checkOutlier(df_train.loc[:, cols])\n",
    "uniOut = outlierCounter(uniOutlier, ['SalePrice'])\n",
    "biOutlier = bivarCI(df_train.loc[:, cols], outer = 2, z_score = 0.00006,  cols = 4)\n",
    "biOut = outlierCounter(biOutlier, ['SalePrice', ])\n",
    "totOut = uniOut.join(biOut, lsuffix='_uni', rsuffix='_bi')\n",
    "print('Top 3 Outlier')\n",
    "totOut.head(3)"
   ]
  },
  {
   "cell_type": "code",
   "execution_count": null,
   "metadata": {},
   "outputs": [],
   "source": [
    "outIndex = [1298, 769, 706, 249, 313, 457, 451, 384, 335, 1396]\n",
    "outIndex2 = [1298, 523, 496, 440, 332]\n",
    "outpos =  df_train.index.isin(outIndex)\n",
    "inpos = ~outpos\n",
    "outpos2 = df_train.index.isin(outIndex2)\n",
    "inpos2 = ~outpos2\n",
    "\n",
    "trace1 = go.Scatter(\n",
    "    x = df_train.loc[inpos,'LotArea'],\n",
    "    y = df_train.loc[inpos,'SalePrice'],\n",
    "    mode = 'markers',\n",
    "    marker = dict(\n",
    "        color='rgba(217, 217, 217, 1.0)',\n",
    "    ),\n",
    "    text = 'Inner'\n",
    ")\n",
    "trace2 =  go.Scatter(\n",
    "    x = df_train.loc[outIndex,'LotArea'],\n",
    "    y = df_train.loc[outIndex, 'SalePrice'],\n",
    "    mode = 'markers',\n",
    "    marker = dict(\n",
    "        color= 'rgba(156, 165, 196, 0.95)',\n",
    "    ),\n",
    "    text = 'Outlier'\n",
    ")\n",
    "\n",
    "trace3 = go.Scatter(\n",
    "    x = df_train.loc[inpos2, 'LotArea'],\n",
    "    y = df_train.loc[inpos2,'TotalBsmtSF'],\n",
    "    mode = 'markers',\n",
    "    marker = dict(\n",
    "        color='rgba(217, 217, 217, 1.0)',\n",
    "    ),\n",
    "    xaxis = 'x2',\n",
    "    yaxis = 'y2',\n",
    "    text = 'Inner'\n",
    ")\n",
    "trace4 =  go.Scatter(\n",
    "    x = df_train.loc[outIndex,'LotArea'],\n",
    "    y = df_train.loc[outIndex, 'TotalBsmtSF'],\n",
    "    mode = 'markers',\n",
    "    marker = dict(\n",
    "        color= 'rgba(156, 165, 196, 0.95)',\n",
    "    ),\n",
    "    xaxis = 'x2',\n",
    "    yaxis = 'y2',\n",
    "    text = 'Outlier'\n",
    ")\n",
    "\n",
    "xaxisDict =  dict(\n",
    "            ticklen = 5,\n",
    "            showgrid = True,\n",
    "            zeroline = False,\n",
    "            showline = False)\n",
    "yaxisDict = dict(\n",
    "        showgrid = True,\n",
    "        zeroline = False,\n",
    "        ticklen =5,\n",
    "        gridwidth = 0\n",
    "    )\n",
    "data = [trace1, trace2, trace3, trace4]\n",
    "layout = go.Layout(\n",
    "    width = 800,\n",
    "    height = 400,\n",
    "    title = 'Outlier Detection',\n",
    "    hovermode = 'closest',\n",
    "    paper_bgcolor='rgb(254, 247, 234)',\n",
    "    plot_bgcolor='rgb(254, 247, 234)',\n",
    "    xaxis1 = xaxisDict,\n",
    "    yaxis1 = yaxisDict,\n",
    "    xaxis2 = xaxisDict,\n",
    "    yaxis2 = yaxisDict,\n",
    "    showlegend = False\n",
    ")\n",
    "\n",
    "fig = go.Figure(data = data, layout = layout)\n",
    "fig.layout.xaxis1.update({'anchor': 'y1', 'domain' : [0, 0.45], 'title': 'LotArea'})\n",
    "fig.layout.yaxis1.update({'anchor': 'x1', 'domain': [0, 1], 'title': 'SalePrice'})\n",
    "fig.layout.xaxis2.update({'anchor': 'y2', 'domain' : [0.65, 1], 'title':'LotArea'})\n",
    "fig.layout.yaxis2.update({'anchor': 'x2', 'domain': [0, 1], 'title' : 'TotalBsmtSF'})\n",
    "fig.layout.margin.update({'t':75, 'l':50})\n",
    "\n",
    "py.iplot(fig)\n",
    "###\n",
    "df_train = df_train.loc[~df_train.index.isin(totOut.index),:]\n",
    "df_raw = df_train.copy()"
   ]
  },
  {
   "cell_type": "code",
   "execution_count": null,
   "metadata": {},
   "outputs": [],
   "source": [
    "plt.figure(figsize = (6, 3))\n",
    "sns.jointplot(df_train.GrLivArea, df_train.SalePrice, alpha = 0.5)\n",
    "plt.xlabel('GrLvArea')\n",
    "plt.ylabel('SalePrice')\n",
    "plt.title('Basis')\n",
    "plt.show()"
   ]
  },
  {
   "cell_type": "code",
   "execution_count": null,
   "metadata": {},
   "outputs": [],
   "source": [
    "from sklearn import linear_model\n",
    "from sklearn.metrics import mean_squared_error, r2_score\n",
    "\n",
    "plt.figure(figsize = (12,6))\n",
    "ax1 = plt.subplot2grid((2,2), (0,0), colspan = 2)\n",
    "ax1.set_color_cycle(sns.color_palette('Set2_r', 10))\n",
    "for val in range(10):\n",
    "    indeX = df_train.OverallQual == val\n",
    "    ax1.scatter(df_train.GrLivArea.loc[indeX], df_train.SalePrice.loc[indeX], label = val)\n",
    "ax1.legend(bbox_to_anchor = [1.1, 1])\n",
    "ax1.set_xlabel('GrLivArea')\n",
    "ax1.set_ylabel('SalePrice')\n",
    "ax1.set_title('GrLiv - SalePrice w.r.t OverallQual')\n",
    "\n",
    "ax2 = plt.subplot2grid((2,2), (1,0))\n",
    "sns.boxplot(x = 'OverallQual', y = 'SalePrice', data = df_train, ax = ax2)\n",
    "ax2.set_title('Box Plot OverallQual & SalePrice', fontsize = 12)\n",
    "\n",
    "ax3 = plt.subplot2grid((2,2), (1,1))\n",
    "cubicQual = df_train.groupby(['OverallQual'])['SalePrice'].mean().round(0)\n",
    "testTrain = df_train.loc[:, ['OverallQual', 'SalePrice']].copy()\n",
    "testTrain['sqOverallQual'] = np.power(testTrain['OverallQual'],2)\n",
    "mdl = linear_model.LinearRegression()\n",
    "mdl.fit(testTrain[['OverallQual', 'sqOverallQual']], testTrain['SalePrice'])\n",
    "y_pred = mdl.predict(testTrain[['OverallQual', 'sqOverallQual']])\n",
    "print(\"Mean squared error: %.2f\" % mean_squared_error(y_pred, testTrain.SalePrice))\n",
    "# Plot outputs\n",
    "ax3.scatter(testTrain['OverallQual'], testTrain['SalePrice'],  color='w')\n",
    "ax3.plot(testTrain['OverallQual'], y_pred, color='blue', linewidth=3)\n",
    "ax3.set_title('Linear Regression, SalePrice ~ OverallQual + sqOverallQual', fontsize = 12)\n",
    "ax3.set_xlabel('OverallQual')\n",
    "plt.subplots_adjust(hspace = 0.5, top = 0.9)\n",
    "plt.suptitle('Overall Effect To SalePrice', fontsize = 14)\n",
    "plt.show()"
   ]
  },
  {
   "cell_type": "code",
   "execution_count": null,
   "metadata": {},
   "outputs": [],
   "source": [
    "plt.figure(figsize = (12,6))\n",
    "tf_train = df_train[['OverallQual','2ndFlrSF', 'TotalBsmtSF', 'SalePrice']].copy()\n",
    "tf_train['GrLivArea'] = df_train['GrLivArea'].copy()\n",
    "tf_train['2ndFlr'] = 'Exist'\n",
    "tf_train.loc[tf_train['2ndFlrSF'] == 0 ,'2ndFlr'] = 'Not'\n",
    "tf_train['Bsmt'] = 'Exist'\n",
    "tf_train.loc[tf_train['TotalBsmtSF'] == 0 ,'Bsmt'] = 'Not'\n",
    "ax1 = plt.subplot2grid((2,2), (0,0), colspan = 2)\n",
    "tmp = tf_train[['2ndFlr', 'Bsmt']].apply(pd.Series.value_counts).T\n",
    "tmp.plot.barh(stacked = True, ax = ax1)\n",
    "ax1.set_title('Exsitence or Not of Bsmt and 2ndFlr', fontsize = 12)\n",
    "ax2 = plt.subplot2grid((2,2), (1,0))\n",
    "ax2.scatter(tf_train['GrLivArea'].loc[tf_train['2ndFlr'] == 'Exist'], tf_train['SalePrice'].loc[tf_train['2ndFlr'] == 'Exist'], color = 'r', alpha = 1, label = 'Exist')\n",
    "ax2.scatter(tf_train['GrLivArea'].loc[tf_train['2ndFlr'] != 'Exist'], tf_train['SalePrice'].loc[tf_train['2ndFlr'] != 'Exist'], color = 'b', alpha = 0.5, label = 'Not')\n",
    "ax2.set_title('2ndFlr Effect on GrLivArea and SalePrice')\n",
    "ax2.legend(bbox_to_anchor = [1.2, 0.8])\n",
    "\n",
    "ax3 = plt.subplot2grid((2,2), (1,1))\n",
    "ax3.scatter(tf_train['GrLivArea'].loc[tf_train['Bsmt'] == 'Exist'], tf_train['SalePrice'].loc[tf_train['Bsmt'] == 'Exist'], color = 'r', alpha = 1)\n",
    "ax3.scatter(tf_train['GrLivArea'].loc[tf_train['Bsmt'] != 'Exist'], tf_train['SalePrice'].loc[tf_train['Bsmt'] != 'Exist'], color = 'b', alpha = 0.5)\n",
    "ax3.set_yticks([])\n",
    "ax3.set_title('Bsmt Effect on GrLivArea and SalePrice')\n",
    "plt.subplots_adjust(hspace = 0.3, wspace = 0.2)\n",
    "plt.suptitle('2ndFlr & Basement', fontsize = 14)\n",
    "plt.show()"
   ]
  },
  {
   "cell_type": "code",
   "execution_count": null,
   "metadata": {},
   "outputs": [],
   "source": [
    "bath = ['FullBath','HalfBath']#'BsmtFullBath', 'BsmtHalfBath',\n",
    "cm = sns.light_palette(\"green\", as_cmap=True)\n",
    "pd.crosstab(df_train[bath[0]], df_train[bath[1]]).style.background_gradient(cmap = cm)"
   ]
  },
  {
   "cell_type": "code",
   "execution_count": null,
   "metadata": {},
   "outputs": [],
   "source": [
    "plt.figure(figsize = (12,6))\n",
    "ax1= plt.subplot2grid((2,2), (0,0), colspan = 2)\n",
    "#colors = pandas.tools.plotting._get_standard_colors(10, color_type = 'random')\n",
    "colors = sns.color_palette('Set1_r', 4)\n",
    "ax1.set_color_cycle(colors)\n",
    "groups = df_train.groupby(['FullBath', 'HalfBath'])\n",
    "print('Full Correlation (GrLivArea - SalePrice) % .2f' % np.corrcoef(df_train['GrLivArea'], df_train['SalePrice'])[0][1])\n",
    "for name, group in groups:\n",
    "    if name in ((1,0), (1,1), (2,0), (2,1)):\n",
    "        print(str(name) + 'Correlation %.2f ' % np.corrcoef(group['GrLivArea'], group['SalePrice'])[0][1])\n",
    "        ax1.plot(group['GrLivArea'], group['SalePrice'], marker = 'o', linestyle = '', label = name, alpha = 0.7)\n",
    "ax1.legend(loc = 'upper right')\n",
    "ax1.set_title('Full/HalfBath Categorized Scatter')\n",
    "ax1.set_xlabel('GrLivArea')\n",
    "ax1.set_ylabel('SalePrice')\n",
    "\n",
    "ax2= plt.subplot2grid((2,2), (1,0))\n",
    "sns.regplot(x = 'GrLivArea', y = 'SalePrice', order = 1,\n",
    "            data = df_train.loc[(df_train['FullBath'] == 2 ) & (df_train['HalfBath']==1), ['GrLivArea', 'SalePrice']], \n",
    "            ax = ax2, line_kws = {'color' : 'red'}, scatter_kws = {'color' : 'blue', 'alpha' : 0.5})\n",
    "ax2.set_title('Bath(2,1) GrLiv - SalePrice Regression')\n",
    "\n",
    "ax3= plt.subplot2grid((2,2), (1,1))\n",
    "testTrain = df_train.loc[:, ['GrLivArea', 'SalePrice']].copy()\n",
    "testTrain['Bath'] = df_train[['FullBath', 'HalfBath']].sum(axis = 1)\n",
    "sns.boxplot(x = 'Bath', y = 'SalePrice', order= [1,2,3], data =testTrain, ax =ax3, palette =sns.color_palette('winter_r',3))\n",
    "ax3.set_title('Sum Bath - SalePrice BoxPlot')\n",
    "ax3.set_yticks([])\n",
    "ax3.set_ylabel('')\n",
    "ax3.set_xlabel('Sum Bath')\n",
    "\n",
    "plt.subplots_adjust(0,0,1, 0.9,hspace = 0.5)\n",
    "plt.suptitle('Bath Relationship with SalePrice', fontsize = 14, y = 1.05)\n",
    "plt.show()"
   ]
  },
  {
   "cell_type": "code",
   "execution_count": null,
   "metadata": {},
   "outputs": [],
   "source": [
    "plt.figure(figsize = (12,6))\n",
    "ax = plt.subplot2grid((3,3), (0,0), rowspan = 2, colspan = 2)\n",
    "bath = ['BedroomAbvGr', 'TotRmsAbvGrd']#'BsmtFullBath', 'BsmtHalfBath',\n",
    "test = pd.crosstab(df_train[bath[0]], df_train[bath[1]])\n",
    "sns.heatmap(test.values, cmap = plt.cm.Reds, ax = ax, linewidths=.5), #yticklabels=False, xticklabels=False)\n",
    "ax.set_ylabel('TotRooms Number')\n",
    "ax.set_xlabel('Bedroom Num')\n",
    "ax.set_title('TotRomm - Bedroom Num')\n",
    "\n",
    "\n",
    "ax2 = plt.subplot2grid((3,3), (0,2))\n",
    "colors = sns.color_palette('Set2',3)\n",
    "pack = [3,4,5]\n",
    "val = pack[0]\n",
    "sns.regplot(x='GrLivArea', y = 'SalePrice', data = df_train.loc[df_train.TotRmsAbvGrd == val], \n",
    "            scatter_kws = {'color' : colors[val-3], 'alpha' : 0.5}, line_kws = {'color' : 'k'}, ax = ax2)\n",
    "#ax2.set_yticklabels([])\n",
    "ax2.set_title('TotRmsAbvGrd 3 - (GrLiv:SalePrice)', fontsize = 9)\n",
    "ax2.set_ylabel('')\n",
    "ax2.set_xlabel('Correlation ' + str(df_train.loc[df_train.TotRmsAbvGrd == val, ['GrLivArea', 'SalePrice']].corr().round(2).loc['GrLivArea','SalePrice']))\n",
    "\n",
    "ax3 = plt.subplot2grid((3,3), (1,2))\n",
    "val = pack[1]\n",
    "sns.regplot(x='GrLivArea', y = 'SalePrice', data = df_train.loc[df_train.TotRmsAbvGrd == val], \n",
    "            scatter_kws = {'color' : 'pink', 'alpha' : 0.5}, line_kws = {'color' : 'k'}, ax = ax3)\n",
    "#ax3.set_yticklabels([])\n",
    "ax3.set_ylabel('')\n",
    "ax3.set_title('TotRmsAbvGrd 4 - (GrLiv:SalePrice)' , fontsize = 9)\n",
    "ax3.set_xlabel('Correlation ' + str(df_train.loc[df_train.TotRmsAbvGrd == val, ['GrLivArea', 'SalePrice']].corr().round(2).loc['GrLivArea','SalePrice']))\n",
    "ax3.legend()\n",
    "\n",
    "ax4 = plt.subplot2grid((3,3), (2,2))\n",
    "val = pack[2]\n",
    "sns.regplot(x='GrLivArea', y = 'SalePrice', data = df_train.loc[df_train.TotRmsAbvGrd == val], \n",
    "            scatter_kws = {'color' : colors[val-3], 'alpha' : 0.5}, line_kws = {'color' : 'k'}, ax = ax4)\n",
    "#ax4.set_yticklabels([])\n",
    "ax4.set_title('TotRmsAbvGrd 5 - (GrLiv:SalePrice)' , fontsize = 9)\n",
    "ax4.set_ylabel('')\n",
    "ax4.set_xlabel('Correlation ' + str(df_train.loc[df_train.TotRmsAbvGrd == val, ['GrLivArea', 'SalePrice']].corr().round(2).loc['GrLivArea','SalePrice']))\n",
    "\n",
    "pack = [1,6]\n",
    "\n",
    "ax5 = plt.subplot2grid((3,3), (2,0))\n",
    "val = pack[0]\n",
    "sns.regplot(x='GrLivArea', y = 'SalePrice', data = df_train.loc[df_train.BedroomAbvGr == val], \n",
    "            scatter_kws = {'color' : colors[0], 'alpha' : 0.5}, line_kws = {'color' : 'k'}, ax = ax5)\n",
    "#ax4.set_yticklabels([])\n",
    "ax5.set_title('BedroomAbvGrd 1 - (GrLiv:SalePrice)' , fontsize = 9)\n",
    "ax5.set_ylabel('')\n",
    "ax5.set_xlabel('Correlation ' + str(df_train.loc[df_train.BedroomAbvGr == val, ['GrLivArea', 'SalePrice']].corr().round(2).loc['GrLivArea','SalePrice']))\n",
    "\n",
    "ax6 = plt.subplot2grid((3,3), (2,1))\n",
    "val = pack[1]\n",
    "sns.regplot(x='GrLivArea', y = 'SalePrice', data = df_train.loc[df_train.BedroomAbvGr == val], \n",
    "            scatter_kws = {'color' : colors[1], 'alpha' : 0.5}, line_kws = {'color' : 'k'}, ax = ax6)\n",
    "#ax4.set_yticklabels([])\n",
    "ax6.set_title('BedroomAbvGrd 5 - (GrLiv:SalePrice)' , fontsize = 9)\n",
    "ax6.set_ylabel('')\n",
    "ax6.set_xlabel('Correlation ' + str(df_train.loc[df_train.BedroomAbvGr == val, ['GrLivArea', 'SalePrice']].corr().round(2).loc['GrLivArea','SalePrice']))\n",
    "\n",
    "\n",
    "sns.despine(left = True)\n",
    "\n",
    "\n",
    "plt.subplots_adjust(top = 0.8, hspace = 1)\n",
    "plt.suptitle(\"Room's Usage with SalePrice\", fontsize = 14)\n",
    "plt.show()"
   ]
  },
  {
   "cell_type": "code",
   "execution_count": null,
   "metadata": {},
   "outputs": [],
   "source": [
    "garage = ['GarageCars', 'GarageArea']\n",
    "plt.figure(figsize = (12,6))\n",
    "ax2 = plt.subplot2grid((2,3), (1,0))\n",
    "palette = sns.color_palette('Set1',5)\n",
    "sns.countplot(df_train['GarageCars'], ax = ax2, palette = palette)\n",
    "ax2.set_title('Number of Occurences of GarageCars')\n",
    "\n",
    "ax3 = plt.subplot2grid((2,3), (0,0), colspan = 3)\n",
    "ax3.set_color_cycle(palette)\n",
    "for val in range(5):\n",
    "    indexV = df_train.GarageCars == val\n",
    "    ax3.plot(df_train['GarageArea'].loc[indexV], df_train['SalePrice'].loc[indexV], marker = 'o', linestyle = '', label = val, alpha = 0.7)\n",
    "ax3.set_xlabel('GarageArea')\n",
    "ax3.set_ylabel('SalePrice')\n",
    "ax3.set_title('Scatter x: GarageArea, y : SalePrice')\n",
    "ax3.set_yticklabels([])\n",
    "ax3.legend()\n",
    "\n",
    "ax = plt.subplot2grid((2,3), (1,2))\n",
    "num = [0,1,2,3]\n",
    "ax.set_color_cycle(sns.color_palette('Set2', 4))\n",
    "for val in num:\n",
    "    index = df_train.GarageCars == val\n",
    "    ax.scatter(df_train.GrLivArea.loc[index], df_train.GarageArea.loc[index], label = val, alpha = 0.5)\n",
    "ax.set_xlabel('GrLivArea')\n",
    "ax.set_ylabel('GarageArea')\n",
    "ax.set_title('Scatter x: GrLivArea, y : GarageArea')\n",
    "ax.legend()\n",
    "\n",
    "def functions(x):\n",
    "    if x['GarageCars'] == 0: return 0\n",
    "    else:\n",
    "        return x['GarageArea']/ x['GarageCars']\n",
    "unitCarArea = df_train.apply(functions, axis = 1)\n",
    "\n",
    "ax3= plt.subplot2grid((2,3), (1,1))\n",
    "ax3.set_color_cycle(palette)\n",
    "for val in range(4):\n",
    "    indexV = df_train.GarageCars == val\n",
    "    ax3.plot(unitCarArea.loc[indexV], df_train['SalePrice'].loc[indexV], marker = 'o', linestyle = '', label = val, alpha = 0.7)\n",
    "ax3.set_xlabel('Unit_GarageArea')\n",
    "ax3.set_ylabel('SalePrice')\n",
    "ax3.set_title('Unit CarArea Effect')\n",
    "ax3.set_yticklabels([])\n",
    "ax3.legend()\n",
    "\n",
    "sns.despine(left = True)\n",
    "plt.subplots_adjust(wspace = 0.3, hspace = 0.5, top =0.8)\n",
    "plt.suptitle('Garage-SalePrice', fontsize = 14)\n",
    "plt.show()\n",
    "#df_train.GarageCars.loc[df_train.GarageCars == 4] = 3"
   ]
  },
  {
   "cell_type": "code",
   "execution_count": null,
   "metadata": {},
   "outputs": [],
   "source": [
    "outSide = ['OpenPorchSF', 'Fireplaces','WoodDeckSF', 'EnclosedPorch','3SsnPorch', 'ScreenPorch','PoolArea']\n",
    "dfOut = df_train[outSide].copy()\n",
    "for x in outSide:\n",
    "    dfOut[x].loc[dfOut[x] != 0] = 1\n",
    "dfOut = dfOut.apply(pd.Series.value_counts).T\n",
    "dfOut = dfOut / df_train.shape[0]\n",
    "trace1 = go.Bar(\n",
    "    x = dfOut[0],\n",
    "    y = dfOut.index,\n",
    "    name = 'Exist',\n",
    "    orientation = 'h',\n",
    "    marker = dict(\n",
    "        color = 'rgba(246, 78, 139, 0.6)',\n",
    "        line = dict(\n",
    "            color = 'rgba(246, 78, 139, 1.0)',\n",
    "            width = 3)\n",
    "    )\n",
    ")\n",
    "trace2 = go.Bar(\n",
    "    x = dfOut[1],\n",
    "    y = dfOut.index,\n",
    "    name = 'Null',\n",
    "    orientation = 'h',\n",
    "    marker = dict(\n",
    "        color = 'rgba(58, 71, 80, 0.6)',\n",
    "        line = dict(\n",
    "            color = 'rgba(58, 71, 80, 1.0)',\n",
    "            width = 3)\n",
    "    )\n",
    ")\n",
    "\n",
    "\n",
    "data = [trace1, trace2]\n",
    "layout1 = go.Layout(\n",
    "    width = 800,\n",
    "    height = 300,\n",
    "    barmode = 'stack',\n",
    "    title = 'Outside Exist or Not'\n",
    "    )\n",
    "fig = go.Figure(data = data, layout = layout1)\n",
    "\n",
    "px =  plt.figure(figsize = (12,3))\n",
    "#px.patch.set_facecolor('black')\n",
    "ax1 = plt.subplot2grid((1,3), (0,0))\n",
    "ax2 = plt.subplot2grid((1,3), (0,1))\n",
    "ax3 = plt.subplot2grid((1,3), (0,2))\n",
    "#According to OverQuall, WoodDeckSF's Proportion Exist or Not\n",
    "\n",
    "for x, axis in zip(['WoodDeckSF', 'Fireplaces', 'OpenPorchSF'], [ax1, ax2, ax3]):\n",
    "    dfOut = df_train[[x, 'OverallQual']].copy()\n",
    "    dfOut[x].loc[dfOut[x] != 0] = 'Exist'\n",
    "    dfOut[x].loc[dfOut[x] == 0] = 'None'\n",
    "    tmp = pd.crosstab(dfOut[x], dfOut['OverallQual']).T\n",
    "    tmp = tmp.divide(tmp.sum(axis = 1), axis = 0)\n",
    "    tmp.plot.barh(stacked = True, ax = axis, legend = False)\n",
    "    axis.set_title(x)\n",
    "ax3.legend(bbox_to_anchor = [1.05, 1])\n",
    "ax2.set_ylabel('')\n",
    "ax3.set_ylabel('')\n",
    "ax2.set_yticklabels('')\n",
    "ax3.set_yticklabels('')\n",
    "plt.subplots_adjust(top = 0.8)\n",
    "plt.suptitle('Ratio of Exist(Blue)', fontsize = 13)\n",
    "sns.despine()\n",
    "py.iplot(fig)\n",
    "plt.show()\n",
    "#print((df_train.isnull().sum()[df_train.isnull().sum() != 0]) / df_train.shape[0])\n",
    "#print('')"
   ]
  },
  {
   "cell_type": "code",
   "execution_count": null,
   "metadata": {},
   "outputs": [],
   "source": [
    "f, ax = plt.subplots(2,2, figsize = (12,6))\n",
    "#FireplaceQu ={'TA': '2', 'Fa': '1', 'No': '1', 'Gd': '0', 'Po': '1', 'Ex': '0'}  \n",
    "hasFire = df_train.FireplaceQu != 'No'\n",
    "tmp = df_train.loc[hasFire, ['OverallQual', 'FireplaceQu', 'GrLivArea', 'SalePrice']]\n",
    "res = pd.crosstab(tmp['OverallQual'], tmp['FireplaceQu'])\n",
    "cols = ['Po', 'Fa', 'TA', 'Gd', 'Ex']\n",
    "sns.heatmap(res[cols], ax = ax[0,0], cmap=\"Blues\")\n",
    "ax[0,0].set_title('Fireplae - OverallQual')\n",
    "\n",
    "colors = sns.color_palette('hls')\n",
    "ax[0,1].set_color_cycle(colors)\n",
    "for val in cols:\n",
    "    index2 = tmp['FireplaceQu'] == val\n",
    "    ax[0,1].scatter(tmp.loc[index2, 'GrLivArea'], tmp.loc[index2,'SalePrice'], label = val)\n",
    "ax[0,1].legend()\n",
    "ax[0,1].set_title('Fireplace Quality - GrLivArea : SalePrice')\n",
    "\n",
    "ax[1,0].set_color_cycle(colors)\n",
    "for val in range(10):\n",
    "    index2 = tmp['OverallQual'] == val\n",
    "    ax[1,0].scatter(tmp.loc[index2, 'GrLivArea'], tmp.loc[index2,'SalePrice'], label = val)\n",
    "ax[1,0].legend()\n",
    "ax[1,0].set_title('Overall Quality - GrLivArea : SalePrice')\n",
    "\n",
    "ax[1,1].set_color_cycle(colors)\n",
    "for val in ['Fa', 'TA']:\n",
    "    index2 = tmp['FireplaceQu'] == val\n",
    "    data = tmp.loc[index2, ['GrLivArea', 'SalePrice']]\n",
    "    label = str(val) + ': '+ str(data.corr().loc['GrLivArea', 'SalePrice'].round(2))\n",
    "    sns.regplot('GrLivArea', 'SalePrice', data = data, ax = ax[1,1],\n",
    "               line_kws = {'color' : 'k'}, label = label)\n",
    "ax[1,1].legend()\n",
    "ax[1,1].set_title('Linear Fireplace Fa & TA')\n",
    "ax[1,1].set_ylabel('')\n",
    "ax[1,1].set_xlabel('')\n",
    "\n",
    "plt.subplots_adjust(top = 0.9, hspace = 0.5)\n",
    "plt.suptitle('Deep Dive into Fireplace Quality', fontsize = 14)\n",
    "plt.show()"
   ]
  },
  {
   "cell_type": "code",
   "execution_count": null,
   "metadata": {},
   "outputs": [],
   "source": [
    "season = ['YearBuilt', 'YearRemodAdd','GarageYrBlt', 'MoSold', 'YrSold', 'SalePrice']\n",
    "plt.figure(figsize = (12,6))\n",
    "ax1 = plt.subplot2grid((2,2), (0,0))\n",
    "sns.countplot(x = 'MoSold', palette = sns.color_palette('winter', 12), data =df_train, ax = ax1)\n",
    "ax1.set_title('Trade Count Per Month')\n",
    "\n",
    "ax2 = plt.subplot2grid((2,2), (0,1))\n",
    "ax2.scatter(x = df_train['YearBuilt'], y = df_train['YearRemodAdd'], alpha = 0.5, color = 'g')\n",
    "ax2.axvline(1950, color = 'red', linewidth = 2.5)\n",
    "ax2.axhline(1950, color = 'red', linewidth = 2.5)\n",
    "ax2.set_xlabel('Built Year')\n",
    "ax2.set_ylabel('Remod Year')\n",
    "ax2.set_title('Built - Remod Year')\n",
    "\n",
    "ax3 = plt.subplot2grid((2,2), (1,0), colspan = 2)\n",
    "sns.regplot(x = 'YearBuilt', y = 'SalePrice', color = 'pink', order = 2, line_kws = {'color' : 'red'}, ax = ax3, data =df_train)\n",
    "ax3.set_title('YearBuilt - SalePrice')\n",
    "plt.subplots_adjust(top = 0.9, hspace = 0.4)\n",
    "plt.suptitle('Season & SalePrice', fontsize = 14)\n",
    "#sns.despine()\n",
    "plt.show()"
   ]
  },
  {
   "cell_type": "code",
   "execution_count": null,
   "metadata": {},
   "outputs": [],
   "source": [
    "numNone = ['GrLivArea', 'LotArea', '1stFlrSF', 'TotalBsmtSF', 'GarageArea']\n",
    "numZero = ['2ndFlrSF', 'BsmtFinSF1', 'BsmtFinSF2', 'BsmtUnfSF']\n",
    "#season = ['YearBuilt', 'YearRemodAdd', 'MoSold', 'YrSold']\n",
    "#numInt = ['BsmtFullBath', 'BsmtHalfBath', 'FullBath', 'HalfBath', 'BedroomAbvGr', 'KitchenAbvGr', 'TotRmsAbvGrd']\n",
    "#etc = ['GarageCars', 'OpenPorchSF', 'Fireplaces', 'WoodDeckSF', 'EnclosedPorch', '3SsnPorch', 'ScreenPorch', 'PoolArea']\n",
    "\n",
    "def tf(data):\n",
    "    if min(data) <= 0:\n",
    "        return data + abs(min(data)) + 1\n",
    "    return data\n",
    "def transformed(val):\n",
    "    if val == 0: return 'log'\n",
    "    elif val == 1: return 'stay'\n",
    "    elif val == -1: return 'inverse'\n",
    "    elif val <= -2: return 'square inverse'\n",
    "    elif val >= 2: return 'square'\n",
    "\n",
    "cols = numNone + numZero + ['SalePrice']\n",
    "numZero_tf = dict()\n",
    "for col in cols:\n",
    "    numZero_tf[col] = round(scipy.stats.boxcox_normmax(df_train[col].loc[df_train[col] != 0]),2)\n",
    "test = pd.DataFrame.from_dict(numZero_tf, orient = 'index').T\n",
    "test.rename(index = {0: 'boxCox'}, inplace = True)\n",
    "f, ax = plt.subplots(1,1,figsize = (8,4))\n",
    "sns.barplot(x = test.iloc[0,:], y = test.columns, orient = 'h')\n",
    "ax.axvline(x=0.5, color = 'red')\n",
    "ax.set_xticklabels(test.iloc[0,:])\n",
    "ax.set_title('Lambda BoxCox Plot', fontsize = 14)\n",
    "plt.show()"
   ]
  },
  {
   "cell_type": "code",
   "execution_count": null,
   "metadata": {},
   "outputs": [],
   "source": [
    "logTF = ['1stFlrSF', '2ndFlrSF']\n",
    "df_train['logSalePrice'] = logPrice =  np.log1p(df_train['SalePrice'])\n",
    "colors = sns.color_palette('Set1',8)\n",
    "f, ax = plt.subplots(1, 4, figsize = (12, 3))\n",
    "ax[0].set_title('1stFlrSF')\n",
    "ax[0].scatter(df_train['1stFlrSF'], logPrice, c = colors[0], alpha = 0.5)\n",
    "ax[1].set_title('Recommend Log1stFlrSF')\n",
    "ax[1].scatter(np.log1p(df_train['1stFlrSF']),logPrice,  c = colors[1], alpha = 0.5)\n",
    "ax[2].set_title('Recommend 2ndFlrSF')\n",
    "indexL = df_train['2ndFlrSF']!= 0\n",
    "ax[2].scatter(df_train['2ndFlrSF'].loc[indexL], df_train['logSalePrice'].loc[indexL], c = colors[3], alpha = 0.5)\n",
    "ax[3].set_title('Log2ndFlrSF')\n",
    "ax[3].scatter(np.log1p(df_train['2ndFlrSF'].loc[indexL]), df_train['logSalePrice'].loc[indexL],  c = colors[4], alpha = 0.5)\n",
    "for ax_ in ax: \n",
    "    if ax_ != ax[0]: plt.setp(ax_, yticks=[])\n",
    "plt.subplots_adjust(top = 0.8)\n",
    "plt.suptitle('Raw vs Log Transformation', fontsize = 14)\n",
    "val1 = np.corrcoef(df_train['1stFlrSF'], logPrice)[0][1]\n",
    "val2 = np.corrcoef(np.log1p(df_train['1stFlrSF']), logPrice)[0][1]\n",
    "val3 = np.corrcoef(df_train['2ndFlrSF'].loc[indexL], df_train['logSalePrice'].loc[indexL])[0][1]\n",
    "val4 = np.corrcoef(np.log1p(df_train['2ndFlrSF'].loc[indexL]), df_train['logSalePrice'].loc[indexL])[0][1]\n",
    "for ax_, val in zip(ax, [val1, val2, val3, val4]):\n",
    "    ax_.set_xlabel('Correlation : %.2f' % val)\n",
    "plt.show()"
   ]
  },
  {
   "cell_type": "code",
   "execution_count": null,
   "metadata": {},
   "outputs": [],
   "source": [
    "tmp = df_train[numNone].apply(lambda x : pd.Series({\"skew\" : x.skew(), \"kurt\" : x.kurt()}))\n",
    "plt.figure(figsize = (12,6))\n",
    "ax0 = plt.subplot2grid((2,2), (0,0))\n",
    "sns.barplot(y=tmp.columns,x = tmp.loc['skew', :], orient = 'h',ax = ax0, palette = sns.color_palette('winter_r'))\n",
    "ax0.axvline(x = 2.5, color = 'red', linewidth = 2.5)\n",
    "ax0.set_title('Skewness')\n",
    "ax0.set_xlabel('')\n",
    "ax1 = plt.subplot2grid((2,2), (0,1))\n",
    "sns.barplot(y=tmp.columns,x = tmp.loc['kurt', :], orient = 'h',ax = ax1, palette = sns.color_palette('winter'))\n",
    "ax1.axvline(x = 2.5, color = 'red', linewidth = 2.5)\n",
    "ax1.set_title('Kurtosis')\n",
    "ax1.set_xlabel('')\n",
    "\n",
    "ax2 = plt.subplot2grid((2,2), (1,0))\n",
    "ax2.set_title('Raw LotArea')\n",
    "ax2.scatter(df_train['LotArea'], df_train['SalePrice'], alpha = 0.5, color = 'b')\n",
    "ax3 = plt.subplot2grid((2,2), (1,1))\n",
    "ax3.set_title('Log LotArea + (Log LotArea)^2 Fitted Line')\n",
    "df_train['logLotArea'] = np.log1p(df_train['LotArea'])\n",
    "sns.regplot(x = 'logLotArea', y = 'SalePrice', order = 2, scatter_kws = {'color' : 'green', 'alpha' : 0.5}, \n",
    "            line_kws = {'color' : 'pink'}, data = df_train, ax = ax3)\n",
    "df_train.drop('logLotArea', axis = 1, inplace = True)\n",
    "plt.subplots_adjust(wspace = 0.5, hspace = 0.3, top = 0.9)\n",
    "plt.suptitle('Where value over 2.5 is distorted', fontsize = 14)\n",
    "plt.show()\n",
    "\n",
    "\n",
    "#print(\"LotArea, Skewness %.2f Kurtosis %.2f\" % (df_train['LotArea'].skew(),df_train['LotArea'].kurt()))\n",
    "#print(\"LogLotArea, Skewness %.2f Kurtosis %.2f\" % (scipy.stats.skew(np.log1p(df_train['LotArea'])),scipy.stats.kurtosis(np.log1p(df_train['LotArea']))))"
   ]
  },
  {
   "cell_type": "code",
   "execution_count": null,
   "metadata": {},
   "outputs": [],
   "source": [
    "f, ax = plt.subplots(1,2,figsize = (12,4))\n",
    "colors = sns.color_palette('Set2',2)\n",
    "sns.distplot(df_train['SalePrice'].loc[df_train.CentralAir == 'Y'], label = 'Yes', ax = ax[0], color = colors[0])\n",
    "sns.distplot(df_train['SalePrice'].loc[df_train.CentralAir != 'Y'], label = 'No', ax = ax[0], color = colors[1])\n",
    "ax[0].set_xticks([])\n",
    "ax[0].set_yticks([])\n",
    "sns.despine(left = True)\n",
    "ax[1].set_color_cycle(colors)\n",
    "for val in ['Y', 'N']:\n",
    "    ax[1].plot(df_train['SalePrice'].loc[df_train.CentralAir == val], df_train['GrLivArea'].loc[df_train.CentralAir == val], marker = 'o', linestyle = '', label = val, alpha = 0.5)\n",
    "ax[1].set_xlabel('GrLivArea')\n",
    "ax[1].set_ylabel('SalePrice')\n",
    "ax[1].legend()\n",
    "plt.subplots_adjust(top = 0.9)\n",
    "plt.suptitle('Distribution SalePrice regard of CentralAir', fontsize = 14)\n",
    "plt.show()\n",
    "_, p_val = scipy.stats.ranksums(df_train['SalePrice'].loc[df_train.CentralAir == 'Y'], df_train['SalePrice'].loc[df_train.CentralAir != 'Y'])\n",
    "if p_val > 0.05: print('P_value : %.2f SalePrice according to CentralAir was not changed %.2f' % p_val)\n",
    "else: print('P_value : %.2f SalePrice according to CentralAir was changed' % p_val)"
   ]
  },
  {
   "cell_type": "code",
   "execution_count": null,
   "metadata": {},
   "outputs": [],
   "source": [
    "cols = df_train.columns[(df_train.apply(pd.Series.nunique) < 15) & (df_train.apply(pd.Series.nunique) > 2 )]\n",
    "def kruskal_pval(x, y = df_train['SalePrice']):\n",
    "    a,b,c,*_= x.unique()\n",
    "    _, p_val = scipy.stats.kruskal(y.loc[x == a], y.loc[x == b],y.loc[x == c])\n",
    "    return p_val\n",
    "p_val = df_train[cols].apply(kruskal_pval)\n",
    "\n",
    "plt.style.use('seaborn')\n",
    "plt.figure(figsize = (12,6))\n",
    "#f.patch.set_facecolor('green')\n",
    "\n",
    "ax1 = plt.subplot2grid((2,2), (0,0))\n",
    "varSev = ['Fireplaces', 'BsmtHalfBath']\n",
    "sns.boxplot(x='Fireplaces', y = 'SalePrice', data = df_train, ax = ax1, palette= sns.color_palette('winter'))\n",
    "ax1.set_title('Firplace - SalePrice Boxplot', color = 'k')\n",
    "ax1.set_facecolor('pink')\n",
    "ax2 = plt.subplot2grid((2,2), (0,1))\n",
    "sns.boxplot(x='BsmtHalfBath', y = 'SalePrice', data = df_train, ax = ax2, palette= sns.color_palette('hot'))\n",
    "ax2.set_title('Bsmt - SalePrice Boxplot', color = 'k')\n",
    "ax2.set_yticks([])\n",
    "ax2.set_ylabel('')\n",
    "ax2.set_facecolor('pink')\n",
    "ax2.set_facecolor('pink')\n",
    "plt.subplots_adjust(top = 0.8)\n",
    "f.patch.set_facecolor('pink')\n",
    "sns.despine(left = True)\n",
    "\n",
    "ax = plt.subplot2grid((2,2), (1,0), colspan = 2)\n",
    "p_val.sort_values().plot.bar(ax = ax, width= 1.5, color = 'b')\n",
    "ax.axhline(y = 0.05, color = 'red', linewidth = 2)\n",
    "ax.set_title('Kruskal Test to All Cat/Ordinary Variables regard of Price', fontsize = 14, color = 'k')\n",
    "plt.subplots_adjust(top = 0.8, hspace = 0.5)\n",
    "plt.suptitle('Kruskal-Walls Test Effect', fontsize = 14, color = 'k')\n",
    "\n",
    "plt.show()\n",
    "for var in varSev:\n",
    "    a,b,c, *_  = df_train[var].unique()\n",
    "    _, p_val = scipy.stats.kruskal(df_train['SalePrice'].loc[df_train[var] == a], df_train['SalePrice'].loc[df_train[var] == b],df_train['SalePrice'].loc[df_train[var] == c])\n",
    "    if p_val < 0.05: print(('P-value %.2f According to ' + str(var) + ', SalePrice distribution changed') % p_val)\n",
    "    else: print(('P-value %.2f According to ' + str(var) + \", SalePrice distribution didn't changed\") % p_val)\n",
    "#df_train.drop(['MoSold', 'PoolQC', 'PoolArea',  'LandSlope', 'LotConfig', 'BsmtHalfBath', 'YrSold'], axis = 1, inplace = True)"
   ]
  },
  {
   "cell_type": "code",
   "execution_count": null,
   "metadata": {},
   "outputs": [],
   "source": [
    "cols = df_train.columns[(df_train.apply(pd.Series.nunique) < 15) & (df_train.apply(pd.Series.nunique) > 1)]\n",
    "minCnt = df_train[cols].apply(lambda x: pd.Series.value_counts(x).min())\n",
    "f, ax = plt.subplots(1,1, figsize = (12,3))\n",
    "minCnt.sort_values().plot.bar(ax = ax, width= 0.5, color = 'b')\n",
    "ax.axhline(y = 30, color = 'red', linewidth = 2)\n",
    "ax.set_title('Min Cnt of All cat/Ord Var', fontsize = 14, color = 'k')\n",
    "require_merge = minCnt.index[minCnt < 30]\n",
    "plt.show()\n",
    "print('Min Cnt >= 30 : ', minCnt.index[minCnt >= 30].tolist())"
   ]
  },
  {
   "cell_type": "code",
   "execution_count": null,
   "metadata": {},
   "outputs": [],
   "source": [
    "def merging():\n",
    "    from CHAID import Tree\n",
    "    def getGroup(samples):\n",
    "        p = re.compile(\"groups=\")\n",
    "        ed = p.search(samples).end()\n",
    "        stack = []\n",
    "        for ix in range(ed, len(samples)):\n",
    "            if samples[ix] == '[': stack.append(samples[ed])\n",
    "            elif samples[ix] == ']': stack.pop()\n",
    "            if not stack:\n",
    "                return samples[ed:ix+1]\n",
    "\n",
    "    def convertDict(res, type_ = 'num'):\n",
    "        table = dict()\n",
    "        val, ix = 0, 0\n",
    "        while ix < len(res):\n",
    "            if res[ix] == ']': val += 1\n",
    "            if res[ix] == \"'\":\n",
    "                ix += 1\n",
    "                init = ix\n",
    "                while res[ix] != \"'\": ix +=1\n",
    "                word  = res[init:ix]\n",
    "                table[word] = val\n",
    "            ix += 1\n",
    "    \n",
    "        if type_ != 'num':\n",
    "            for x,y in table.items():\n",
    "                table[x] = str(y)\n",
    "        return table\n",
    "            \n",
    "    frame = dict()\n",
    "    for var in require_merge:\n",
    "        tree = Tree.from_pandas_df(df = df_train[[var, 'SalePrice']], \n",
    "                           i_variables = dict(zip([var], ['nominal'])), d_variable = ['SalePrice'], \n",
    "                           dep_variable_type = 'continuous', min_child_node_size = 30)\n",
    "        samples = str(tree.tree_store[0])\n",
    "        try:\n",
    "            res = getGroup(samples)\n",
    "            res = convertDict(res, type_ = 'cat')\n",
    "            if res: frame[var] = res\n",
    "        except:\n",
    "            pass\n",
    "\n",
    "    for x, y in frame.items():\n",
    "        print(x,y)"
   ]
  },
  {
   "cell_type": "code",
   "execution_count": null,
   "metadata": {},
   "outputs": [],
   "source": [
    "testTrain = df_train[['HeatingQC', 'SalePrice']].copy()\n",
    "plt.style.use('seaborn-pastel')\n",
    "f, ax = plt.subplots(1,2, figsize = (12,4))\n",
    "sns.boxplot(x = 'HeatingQC', y = 'SalePrice', order = ['Ex', 'Gd', 'Fa', 'Po', 'TA'], ax = ax[0], palette = sns.color_palette('PuBu'), data = testTrain)\n",
    "ax[0].set_title('Raw Version')\n",
    "testTrain['HeatingQC'] = testTrain['HeatingQC'].map({'TA': '2', 'Gd': '1', 'Fa': '1', 'Po': '2', 'Ex': '0'}  )\n",
    "sns.boxplot(x = 'HeatingQC', y = 'SalePrice', order = ['0', '1', '2'], ax = ax[1], palette = sns.color_palette('Greens'), data = testTrain)\n",
    "ax[1].set_title('Transformed Version', )\n",
    "ax[1].set_yticklabels('')\n",
    "ax[1].set_ylabel('')\n",
    "sns.despine(left = True)\n",
    "plt.subplots_adjust(top = 0.85)\n",
    "plt.suptitle('According to CHAID, Merge Values',fontsize = 14)\n",
    "plt.show()\n",
    "print('HeatingQC :', {'Ex': '0', 'Gd': '1', 'Fa': '1', 'TA': '2',  'Po': '2', } )"
   ]
  },
  {
   "cell_type": "code",
   "execution_count": null,
   "metadata": {},
   "outputs": [],
   "source": [
    "HouseStyle = {'SFoyer': '0', '2.5Unf': '0', '2.5Fin': '1', '1.5Fin': '0', 'SLvl': '0', '1Story': '1', '1.5Unf': '0', '2Story': '1'}  \n",
    "ExterQual = {'TA': '1', 'Gd': '2', 'Fa': '1', 'Ex': '0'}  \n",
    "Fence = {'MnWw': '0', 'GdPrv': '0', 'MnPrv': '0', 'No': '1', 'GdWo': '0'}  \n",
    "Electrical= {'Mix': '1', 'FuseA': '0', 'FuseF': '0', 'SBrkr': '1', 'FuseP': '0'}  \n",
    "GarageCond ={'TA': '1', 'Fa': '0', 'No': '0', 'Gd': '1', 'Po': '0', 'Ex': '0'}  \n",
    "HeatingQC ={'TA': '2', 'Gd': '1', 'Fa': '1', 'Po': '2', 'Ex': '0'}\n",
    "SaleType ={'WD': '2', 'New': '1', 'ConLw': '1', 'ConLD': '2', 'ConLI': '1', 'COD': '0', 'CWD': '1', 'Oth': '0', 'Con': '1'}  \n",
    "GarageType= {'CarPort': '0', 'Basment': '1', 'No': '0', '2Types': '0', 'Detchd': '0', 'BuiltIn': '2', 'Attchd': '1'}  \n",
    "RoofStyle ={'Mansard': '0', 'Shed': '0', 'Hip': '1', 'Gambrel': '0', 'Flat': '0', 'Gable': '0'}  \n",
    "MSZoning ={'C (all)': '0', 'RM': '1', 'RH': '0', 'FV': '0', 'RL': '0'}  \n",
    "LandSlope ={'Sev': '1', 'Mod': '1', 'Gtl': '0'}  \n",
    "ExterCond ={'TA': '0', 'Gd': '1', 'Fa': '1', 'Po':  '1', 'Ex': '0'}  \n",
    "BsmtFinType2 ={'LwQ': '1', 'No': '1', 'ALQ': '0', 'BLQ': '1', 'Unf': '0', 'GLQ': '0', 'Rec': '1'}  \n",
    "BsmtCond ={'TA': '1', 'Gd': '1', 'Fa': '0', 'Po': '0', 'No': '0'}  \n",
    "Condition1= {'RRAn': '1', 'Artery': '0', 'PosA': '1', 'RRNn': '1', 'PosN': '1', 'RRAe': '0', 'Feedr': '0', 'Norm': '1', 'RRNe': '0'}  \n",
    "MasVnrType ={'BrkFace': '1', 'Stone': '2', 'None': '0', 'BrkCmn': '0'}  \n",
    "LotShape ={'IR2': '0', 'IR1': '0', 'IR3': '0', 'Reg': '1'}  \n",
    "GarageQual ={'TA': '0', 'Fa': '1', 'No': '1', 'Gd': '0', 'Po': '1', 'Ex': '0'}  \n",
    "MiscFeature ={'Gar2': '0', 'Shed': '0', 'TenC': '1', 'No': '1', 'Othr': '0'}  \n",
    "Functional ={'Mod': '0', 'Min1': '1', 'Maj1': '0', 'Sev': '0', 'Maj2': '1', 'Min2': '1', 'Typ': '0'}  \n",
    "Foundation ={'Stone': '1', 'PConc': '1', 'Slab': '0', 'Wood': '0', 'CBlock': '0', 'BrkTil': '0'}  \n",
    "SaleCondition ={'Family': '0', 'Abnorml': '0', 'AdjLand': '0', 'Normal': '0', 'Alloca': '0', 'Partial': '1'}  \n",
    "FireplaceQu ={'TA': '2', 'Fa': '1', 'No': '1', 'Gd': '0', 'Po': '1', 'Ex': '0'}  \n",
    "\n",
    "def tmp():\n",
    "    df_train['HouseStyle'].update(df_train.HouseStyle.map(HouseStyle))\n",
    "    df_train['ExterQual'].update(df_train.ExterQual.map(ExterQual))\n",
    "    df_train['Fence'].update(df_train.Fence.map(Fence))\n",
    "    df_train['Electrical'].update(df_train.Electrical.map(Electrical))\n",
    "    df_train['GarageCond'].update(df_train.GarageCond.map(GarageCond))\n",
    "    df_train['HeatingQC'].update(df_train.HeatingQC.map(HeatingQC))\n",
    "    df_train['SaleType'].update(df_train.SaleType.map(SaleType))\n",
    "    df_train['GarageType'].update(df_train.GarageType.map(GarageType))\n",
    "    df_train['RoofStyle'].update(df_train.RoofStyle.map(RoofStyle))\n",
    "    df_train['MSZoning'].update(df_train.MSZoning.map(MSZoning))\n",
    "    df_train['LandSlope'].update(df_train.LandSlope.map(LandSlope))\n",
    "    df_train['ExterCond'].update(df_train.ExterCond.map(ExterCond))\n",
    "    df_train['BsmtFinType2'].update(df_train.BsmtFinType2.map(BsmtFinType2))\n",
    "    df_train['BsmtCond'].update(df_train.BsmtCond.map(BsmtCond))\n",
    "    df_train['Condition1'].update(df_train.Condition1.map(Condition1))\n",
    "    df_train['MasVnrType'].update(df_train.MasVnrType.map(MasVnrType))\n",
    "    df_train['LotShape'].update(df_train.LotShape.map(LotShape))\n",
    "    df_train['GarageQual'].update(df_train.GarageQual.map(GarageQual))\n",
    "    df_train['MiscFeature'].update(df_train.MiscFeature.map(MiscFeature))\n",
    "    df_train['Functional'].update(df_train.Functional.map(Functional))\n",
    "    df_train['Foundation'].update(df_train.Foundation.map(Foundation))\n",
    "    df_train['SaleCondition'].update(df_train.SaleCondition.map(SaleCondition))\n",
    "    df_train['FireplaceQu'].update(df_train.FireplaceQu.map(FireplaceQu))\n",
    "\n",
    "#df_train.GarageCars.loc[df_train.GarageCars == 4] = 3"
   ]
  },
  {
   "cell_type": "code",
   "execution_count": null,
   "metadata": {},
   "outputs": [],
   "source": [
    "cols = ['No', 'Fa', 'Po']\n",
    "f, ax = plt.subplots(1,2, figsize = (12,4))\n",
    "colors = sns.color_palette('hls')\n",
    "ax[0].set_color_cycle(colors)\n",
    "for val in cols:\n",
    "    index = df_train.FireplaceQu == val\n",
    "    data = df_train.loc[index, ['GrLivArea', 'SalePrice']]\n",
    "    ax[0].scatter(data['GrLivArea'], data['SalePrice'], label =val)\n",
    "\n",
    "data = df_train.loc[df_train.FireplaceQu.isin(('No', 'Fa', 'Po')),['GrLivArea', 'SalePrice']]\n",
    "corr = data.corr().loc['GrLivArea', 'SalePrice'].round(2)\n",
    "sns.regplot('GrLivArea', 'SalePrice', data = data, scatter = False, line_kws = {'color' : 'purple'}, ax = ax[0])\n",
    "ax[0].legend()\n",
    "title = 'Total Correlation ' + str(corr)\n",
    "ax[0].set_title(title)\n",
    "\n",
    "data = df_train.loc[df_train.FireplaceQu == 'Fa', ['GrLivArea', 'SalePrice']]\n",
    "corr = data.corr().loc['GrLivArea', 'SalePrice'].round(2)\n",
    "sns.regplot('GrLivArea', 'SalePrice', data = data, line_kws = {'color':'purple'}, ax = ax[1])\n",
    "title = 'Fa Linearity ' + str(corr)\n",
    "ax[1].set_title(title)\n",
    "plt.subplots_adjust(top = 0.8)\n",
    "plt.suptitle('Collapsed Linearity By Merging', fontsize = 14)\n",
    "plt.show()"
   ]
  },
  {
   "cell_type": "code",
   "execution_count": null,
   "metadata": {},
   "outputs": [],
   "source": [
    "def minChecker(x, min_val = 10):\n",
    "    cnt = x.value_counts() \n",
    "    outer = cnt.index[cnt < min_val]\n",
    "    mask = x.isin(outer)\n",
    "    x = x.copy()\n",
    "    x[mask] = np.NaN\n",
    "    return x\n",
    "df_train = df_train[require_merge].apply(minChecker)\n",
    "df_train.head(2)"
   ]
  },
  {
   "cell_type": "code",
   "execution_count": null,
   "metadata": {},
   "outputs": [],
   "source": [
    "def my_attaced_process(train_df):\n",
    "    #From Bivariate Outlier Detection\n",
    "    train_df.drop([1298,  523,  496,  691, 1182, 1169, 1024,  769,  706,  249,  313, 457,  451,  440,  384,  335,  332, 1396], inplace = True)\n",
    "    #Get only useful values\n",
    "    df_train.loc[~df_train['TotRmsAbvGrd'].isin((3,4,5)) , 'TotRmsAbvGrd'] = 0\n",
    "    df_train.loc[~df_train['BedroomAbvGr'].isin((0,1,2,3,4,5,6)) , 'BedroomAbvGr'] = 0\n",
    "    df_train['FireplaceQu'] = df_train['FireplaceQu'].map({'Fa': 'Fa', 'TA' : 'TA'})\n",
    "    #Unit Car Area Used\n",
    "    df_train['Unit_CarArea'] = df_train['GarageArea'].divide(df_train['GarageCars'])\n",
    "    df_train['Unit_CarArea'].fillna(0, inplace = True)\n",
    "    #Drop the columns where one values are so dense\n",
    "    df_train.drop(['PoolArea', 'ScreenPorch', '3SsnPorch'], axis = 1)"
   ]
  },
  {
   "cell_type": "code",
   "execution_count": null,
   "metadata": {},
   "outputs": [],
   "source": [
    "test = df_train[['OverallQual', 'GarageCars', 'Fireplaces']]\n",
    "by = test.groupby(['OverallQual', 'GarageCars', 'Fireplaces']).size().reset_index()\n",
    "trace1 = go.Scatter3d(\n",
    "    x = by['OverallQual'], y = by['GarageCars'], z = by['Fireplaces'], \n",
    "    mode = 'markers',\n",
    "    marker = dict(sizemode = 'diameter', size = by[0]//5, color = by[0], colorscale = 'Viridis', showscale = True,\n",
    "                 colorbar=dict( len=1, thickness=20)),\n",
    "    \n",
    ")\n",
    "\n",
    "data = [trace1]\n",
    "layout = go.Layout(\n",
    "    width = 600, height = 400, title = 'Size Dot', hovermode = 'closest',\n",
    "    paper_bgcolor='rgb(254, 247, 234)', plot_bgcolor='rgb(254, 247, 234)',\n",
    "    scene = dict(xaxis=dict(title = 'OverallQual'), yaxis=dict(title='GarageCars'), zaxis=dict(title='Fireplaces')))\n",
    "fig = go.Figure(data=data, layout = layout)\n",
    "py.iplot(fig)"
   ]
  }
 ]
}